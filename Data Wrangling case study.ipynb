{
 "cells": [
  {
   "cell_type": "markdown",
   "id": "1ac7507b-7166-40ec-a398-95634bae138d",
   "metadata": {},
   "source": [
    "# Import data"
   ]
  },
  {
   "cell_type": "code",
   "execution_count": 1,
   "id": "ba666229-04bf-423e-bea9-1090c5d7f672",
   "metadata": {},
   "outputs": [],
   "source": [
    "import pandas as pd\n",
    "import numpy as np\n",
    "import seaborn as sns\n",
    "import matplotlib as plt"
   ]
  },
  {
   "cell_type": "code",
   "execution_count": 2,
   "id": "1ae2d5aa-2371-4346-8b54-72535318835a",
   "metadata": {},
   "outputs": [
    {
     "data": {
      "text/html": [
       "<div>\n",
       "<style scoped>\n",
       "    .dataframe tbody tr th:only-of-type {\n",
       "        vertical-align: middle;\n",
       "    }\n",
       "\n",
       "    .dataframe tbody tr th {\n",
       "        vertical-align: top;\n",
       "    }\n",
       "\n",
       "    .dataframe thead th {\n",
       "        text-align: right;\n",
       "    }\n",
       "</style>\n",
       "<table border=\"1\" class=\"dataframe\">\n",
       "  <thead>\n",
       "    <tr style=\"text-align: right;\">\n",
       "      <th></th>\n",
       "      <th>S.No</th>\n",
       "      <th>Year</th>\n",
       "      <th>Month</th>\n",
       "      <th>Day</th>\n",
       "      <th>Hour</th>\n",
       "      <th>Minute</th>\n",
       "      <th>Second</th>\n",
       "      <th>PM1</th>\n",
       "      <th>PM2.5</th>\n",
       "      <th>PM10</th>\n",
       "      <th>Temp</th>\n",
       "      <th>Humidity</th>\n",
       "      <th>Light</th>\n",
       "      <th>CO</th>\n",
       "      <th>Water Temp</th>\n",
       "      <th>pH</th>\n",
       "    </tr>\n",
       "  </thead>\n",
       "  <tbody>\n",
       "    <tr>\n",
       "      <th>0</th>\n",
       "      <td>1</td>\n",
       "      <td>2019</td>\n",
       "      <td>11</td>\n",
       "      <td>26</td>\n",
       "      <td>10</td>\n",
       "      <td>27</td>\n",
       "      <td>20</td>\n",
       "      <td>8.0</td>\n",
       "      <td>12</td>\n",
       "      <td>14</td>\n",
       "      <td>25</td>\n",
       "      <td>91</td>\n",
       "      <td>34.0</td>\n",
       "      <td>95.0</td>\n",
       "      <td>24.63</td>\n",
       "      <td>6.52</td>\n",
       "    </tr>\n",
       "    <tr>\n",
       "      <th>1</th>\n",
       "      <td>2</td>\n",
       "      <td>2019</td>\n",
       "      <td>11</td>\n",
       "      <td>26</td>\n",
       "      <td>10</td>\n",
       "      <td>28</td>\n",
       "      <td>12</td>\n",
       "      <td>9.0</td>\n",
       "      <td>12</td>\n",
       "      <td>15</td>\n",
       "      <td>25</td>\n",
       "      <td>91</td>\n",
       "      <td>34.0</td>\n",
       "      <td>95.0</td>\n",
       "      <td>24.63</td>\n",
       "      <td>6.59</td>\n",
       "    </tr>\n",
       "    <tr>\n",
       "      <th>2</th>\n",
       "      <td>3</td>\n",
       "      <td>2019</td>\n",
       "      <td>11</td>\n",
       "      <td>26</td>\n",
       "      <td>10</td>\n",
       "      <td>29</td>\n",
       "      <td>4</td>\n",
       "      <td>10.0</td>\n",
       "      <td>14</td>\n",
       "      <td>15</td>\n",
       "      <td>26</td>\n",
       "      <td>89</td>\n",
       "      <td>34.0</td>\n",
       "      <td>95.0</td>\n",
       "      <td>24.63</td>\n",
       "      <td>6.53</td>\n",
       "    </tr>\n",
       "    <tr>\n",
       "      <th>3</th>\n",
       "      <td>4</td>\n",
       "      <td>2019</td>\n",
       "      <td>11</td>\n",
       "      <td>26</td>\n",
       "      <td>10</td>\n",
       "      <td>29</td>\n",
       "      <td>56</td>\n",
       "      <td>8.0</td>\n",
       "      <td>12</td>\n",
       "      <td>12</td>\n",
       "      <td>26</td>\n",
       "      <td>90</td>\n",
       "      <td>34.0</td>\n",
       "      <td>95.0</td>\n",
       "      <td>24.56</td>\n",
       "      <td>6.59</td>\n",
       "    </tr>\n",
       "    <tr>\n",
       "      <th>4</th>\n",
       "      <td>5</td>\n",
       "      <td>2019</td>\n",
       "      <td>11</td>\n",
       "      <td>26</td>\n",
       "      <td>10</td>\n",
       "      <td>30</td>\n",
       "      <td>43</td>\n",
       "      <td>9.0</td>\n",
       "      <td>12</td>\n",
       "      <td>15</td>\n",
       "      <td>26</td>\n",
       "      <td>91</td>\n",
       "      <td>34.0</td>\n",
       "      <td>95.0</td>\n",
       "      <td>24.56</td>\n",
       "      <td>6.54</td>\n",
       "    </tr>\n",
       "    <tr>\n",
       "      <th>...</th>\n",
       "      <td>...</td>\n",
       "      <td>...</td>\n",
       "      <td>...</td>\n",
       "      <td>...</td>\n",
       "      <td>...</td>\n",
       "      <td>...</td>\n",
       "      <td>...</td>\n",
       "      <td>...</td>\n",
       "      <td>...</td>\n",
       "      <td>...</td>\n",
       "      <td>...</td>\n",
       "      <td>...</td>\n",
       "      <td>...</td>\n",
       "      <td>...</td>\n",
       "      <td>...</td>\n",
       "      <td>...</td>\n",
       "    </tr>\n",
       "    <tr>\n",
       "      <th>23531</th>\n",
       "      <td>23532</td>\n",
       "      <td>2019</td>\n",
       "      <td>12</td>\n",
       "      <td>10</td>\n",
       "      <td>8</td>\n",
       "      <td>8</td>\n",
       "      <td>23</td>\n",
       "      <td>18.0</td>\n",
       "      <td>27</td>\n",
       "      <td>28</td>\n",
       "      <td>45</td>\n",
       "      <td>-13</td>\n",
       "      <td>35.0</td>\n",
       "      <td>95.0</td>\n",
       "      <td>27.06</td>\n",
       "      <td>6.34</td>\n",
       "    </tr>\n",
       "    <tr>\n",
       "      <th>23532</th>\n",
       "      <td>23533</td>\n",
       "      <td>2019</td>\n",
       "      <td>12</td>\n",
       "      <td>10</td>\n",
       "      <td>8</td>\n",
       "      <td>9</td>\n",
       "      <td>9</td>\n",
       "      <td>19.0</td>\n",
       "      <td>33</td>\n",
       "      <td>48</td>\n",
       "      <td>47</td>\n",
       "      <td>9</td>\n",
       "      <td>35.0</td>\n",
       "      <td>95.0</td>\n",
       "      <td>27.06</td>\n",
       "      <td>6.35</td>\n",
       "    </tr>\n",
       "    <tr>\n",
       "      <th>23533</th>\n",
       "      <td>23534</td>\n",
       "      <td>2019</td>\n",
       "      <td>12</td>\n",
       "      <td>10</td>\n",
       "      <td>8</td>\n",
       "      <td>9</td>\n",
       "      <td>57</td>\n",
       "      <td>22.0</td>\n",
       "      <td>30</td>\n",
       "      <td>34</td>\n",
       "      <td>47</td>\n",
       "      <td>8</td>\n",
       "      <td>35.0</td>\n",
       "      <td>95.0</td>\n",
       "      <td>27.06</td>\n",
       "      <td>6.34</td>\n",
       "    </tr>\n",
       "    <tr>\n",
       "      <th>23534</th>\n",
       "      <td>23535</td>\n",
       "      <td>2019</td>\n",
       "      <td>12</td>\n",
       "      <td>10</td>\n",
       "      <td>8</td>\n",
       "      <td>10</td>\n",
       "      <td>49</td>\n",
       "      <td>21.0</td>\n",
       "      <td>35</td>\n",
       "      <td>47</td>\n",
       "      <td>51</td>\n",
       "      <td>6</td>\n",
       "      <td>34.0</td>\n",
       "      <td>95.0</td>\n",
       "      <td>27.06</td>\n",
       "      <td>6.38</td>\n",
       "    </tr>\n",
       "    <tr>\n",
       "      <th>23535</th>\n",
       "      <td>23536</td>\n",
       "      <td>2019</td>\n",
       "      <td>12</td>\n",
       "      <td>10</td>\n",
       "      <td>8</td>\n",
       "      <td>11</td>\n",
       "      <td>41</td>\n",
       "      <td>23.0</td>\n",
       "      <td>34</td>\n",
       "      <td>39</td>\n",
       "      <td>47</td>\n",
       "      <td>8</td>\n",
       "      <td>34.0</td>\n",
       "      <td>95.0</td>\n",
       "      <td>27.06</td>\n",
       "      <td>6.34</td>\n",
       "    </tr>\n",
       "  </tbody>\n",
       "</table>\n",
       "<p>23536 rows × 16 columns</p>\n",
       "</div>"
      ],
      "text/plain": [
       "        S.No  Year  Month  Day  Hour  Minute  Second   PM1  PM2.5  PM10  Temp  \\\n",
       "0          1  2019     11   26    10      27      20   8.0     12    14    25   \n",
       "1          2  2019     11   26    10      28      12   9.0     12    15    25   \n",
       "2          3  2019     11   26    10      29       4  10.0     14    15    26   \n",
       "3          4  2019     11   26    10      29      56   8.0     12    12    26   \n",
       "4          5  2019     11   26    10      30      43   9.0     12    15    26   \n",
       "...      ...   ...    ...  ...   ...     ...     ...   ...    ...   ...   ...   \n",
       "23531  23532  2019     12   10     8       8      23  18.0     27    28    45   \n",
       "23532  23533  2019     12   10     8       9       9  19.0     33    48    47   \n",
       "23533  23534  2019     12   10     8       9      57  22.0     30    34    47   \n",
       "23534  23535  2019     12   10     8      10      49  21.0     35    47    51   \n",
       "23535  23536  2019     12   10     8      11      41  23.0     34    39    47   \n",
       "\n",
       "       Humidity  Light    CO  Water Temp    pH  \n",
       "0            91   34.0  95.0       24.63  6.52  \n",
       "1            91   34.0  95.0       24.63  6.59  \n",
       "2            89   34.0  95.0       24.63  6.53  \n",
       "3            90   34.0  95.0       24.56  6.59  \n",
       "4            91   34.0  95.0       24.56  6.54  \n",
       "...         ...    ...   ...         ...   ...  \n",
       "23531       -13   35.0  95.0       27.06  6.34  \n",
       "23532         9   35.0  95.0       27.06  6.35  \n",
       "23533         8   35.0  95.0       27.06  6.34  \n",
       "23534         6   34.0  95.0       27.06  6.38  \n",
       "23535         8   34.0  95.0       27.06  6.34  \n",
       "\n",
       "[23536 rows x 16 columns]"
      ]
     },
     "execution_count": 2,
     "metadata": {},
     "output_type": "execute_result"
    }
   ],
   "source": [
    "url = './fishdata1.csv'\n",
    "df = pd.read_csv(url, error_bad_lines=False)\n",
    "df"
   ]
  },
  {
   "cell_type": "markdown",
   "id": "9528d6f7-fecb-425e-954d-5f90b4c80c93",
   "metadata": {
    "tags": []
   },
   "source": [
    "## visualization check"
   ]
  },
  {
   "cell_type": "code",
   "execution_count": 3,
   "id": "c71520bf-2d2a-4ec1-b5f2-c166ff2aad04",
   "metadata": {},
   "outputs": [
    {
     "data": {
      "text/plain": [
       "Index(['S.No', 'Year', 'Month', 'Day', 'Hour', 'Minute', 'Second', 'PM1',\n",
       "       'PM2.5', 'PM10', 'Temp', 'Humidity', 'Light', 'CO', 'Water Temp', 'pH'],\n",
       "      dtype='object')"
      ]
     },
     "execution_count": 3,
     "metadata": {},
     "output_type": "execute_result"
    }
   ],
   "source": [
    "df.columns"
   ]
  },
  {
   "cell_type": "markdown",
   "id": "a2174e28-859f-46c4-b65e-cc7558837291",
   "metadata": {},
   "source": [
    "### Correlation Matrix"
   ]
  },
  {
   "cell_type": "code",
   "execution_count": null,
   "id": "c49b5cd3-ade8-4699-9391-235736527a3c",
   "metadata": {},
   "outputs": [],
   "source": [
    "corr = df.corr()\n",
    "plt.figure(figsize=(15,15))\n",
    "sns.heatmap(corr, annot=True)\n",
    "plt.show()"
   ]
  },
  {
   "cell_type": "markdown",
   "id": "8f3b829e-f37f-47f3-b9d8-1a214305e522",
   "metadata": {
    "tags": []
   },
   "source": [
    "### PM1"
   ]
  },
  {
   "cell_type": "code",
   "execution_count": 4,
   "id": "a4ba8d22-10b0-4e62-bcc4-65ae7751c467",
   "metadata": {},
   "outputs": [
    {
     "data": {
      "image/png": "[encoded data removed]",
      "text/plain": [
       "<Figure size 432x288 with 1 Axes>"
      ]
     },
     "metadata": {
      "needs_background": "light"
     },
     "output_type": "display_data"
    }
   ],
   "source": [
    "import matplotlib.pyplot as plt\n",
    "\n",
    "plt.title('fish data PM1')\n",
    "plt.plot(df['S.No'], df['PM1']) \n",
    "plt.xlabel('S.No')\n",
    "plt.ylabel('data')\n",
    "plt.legend(['PM1'])\n",
    "plt.show()"
   ]
  },
  {
   "cell_type": "markdown",
   "id": "dbbc59ac-d9ba-4f61-99a2-bd85fc57208c",
   "metadata": {},
   "source": [
    "### PM2.5"
   ]
  },
  {
   "cell_type": "code",
   "execution_count": 5,
   "id": "f0f685a6-e26f-4050-9a6c-45c179f0c7c6",
   "metadata": {},
   "outputs": [
    {
     "data": {
      "image/png": "[encoded data removed]",
      "text/plain": [
       "<Figure size 432x288 with 1 Axes>"
      ]
     },
     "metadata": {
      "needs_background": "light"
     },
     "output_type": "display_data"
    }
   ],
   "source": [
    "plt.title('fish data PM2.5')\n",
    "plt.plot(df['S.No'], df['PM2.5'])\n",
    "plt.xlabel('S.No')\n",
    "plt.ylabel('data')\n",
    "plt.legend(['PM2.5'])\n",
    "plt.show()"
   ]
  },
  {
   "cell_type": "markdown",
   "id": "0d674936-4dd4-48c8-9f01-1f53aee3511f",
   "metadata": {},
   "source": [
    "### PM10"
   ]
  },
  {
   "cell_type": "code",
   "execution_count": 6,
   "id": "a3bca0a9-bbd9-4c40-ba0b-597c7913d263",
   "metadata": {},
   "outputs": [
    {
     "data": {
      "image/png": "[encoded data removed]",
      "text/plain": [
       "<Figure size 432x288 with 1 Axes>"
      ]
     },
     "metadata": {
      "needs_background": "light"
     },
     "output_type": "display_data"
    }
   ],
   "source": [
    "plt.title('fish data PM10')\n",
    "plt.plot(df['S.No'], df['PM10']) \n",
    "plt.xlabel('S.No')\n",
    "plt.ylabel('data')\n",
    "plt.legend(['PM10'])\n",
    "plt.show()"
   ]
  },
  {
   "cell_type": "code",
   "execution_count": 7,
   "id": "00435bed-3dc3-4e84-af8f-0ce29ede3d8e",
   "metadata": {},
   "outputs": [
    {
     "data": {
      "image/png": "[encoded data removed]",
      "text/plain": [
       "<Figure size 432x288 with 1 Axes>"
      ]
     },
     "metadata": {
      "needs_background": "light"
     },
     "output_type": "display_data"
    }
   ],
   "source": [
    "plt.hist(df['PM10'])\n",
    "\n",
    "plt.show()"
   ]
  },
  {
   "cell_type": "markdown",
   "id": "323bbdfe-1184-4274-990f-54894b3db945",
   "metadata": {
    "tags": []
   },
   "source": [
    "### Temp"
   ]
  },
  {
   "cell_type": "code",
   "execution_count": 8,
   "id": "399d5a1a-1103-43a5-9739-f4f78fb67cc3",
   "metadata": {},
   "outputs": [
    {
     "data": {
      "image/png": "[encoded data removed]",
      "text/plain": [
       "<Figure size 432x288 with 1 Axes>"
      ]
     },
     "metadata": {
      "needs_background": "light"
     },
     "output_type": "display_data"
    }
   ],
   "source": [
    "plt.title('fish data Temp')\n",
    "plt.plot(df['S.No'], df['Temp']) \n",
    "plt.xlabel('S.No')\n",
    "plt.ylabel('data')\n",
    "plt.legend(['Temp'])\n",
    "plt.show()"
   ]
  },
  {
   "cell_type": "markdown",
   "id": "8f574712-39d2-4fa0-be97-fc3efc370afb",
   "metadata": {
    "tags": []
   },
   "source": [
    "### Water Temp"
   ]
  },
  {
   "cell_type": "code",
   "execution_count": 9,
   "id": "d5e820d3-f8c6-4981-a556-ec3d772db81f",
   "metadata": {},
   "outputs": [
    {
     "data": {
      "image/png": "[encoded data removed]",
      "text/plain": [
       "<Figure size 432x288 with 1 Axes>"
      ]
     },
     "metadata": {
      "needs_background": "light"
     },
     "output_type": "display_data"
    }
   ],
   "source": [
    "plt.title('fish data WaterTemp')\n",
    "plt.plot(df['S.No'], df['Water Temp'])\n",
    "plt.xlabel('S.No')\n",
    "plt.ylabel('data')\n",
    "plt.legend( ['Water Temp'])\n",
    "plt.show()"
   ]
  },
  {
   "cell_type": "markdown",
   "id": "fc453929-35c4-4408-9442-e743619713a1",
   "metadata": {
    "tags": []
   },
   "source": [
    "### Humidity"
   ]
  },
  {
   "cell_type": "code",
   "execution_count": 10,
   "id": "06f03313-3149-4e08-b709-ca1777908642",
   "metadata": {},
   "outputs": [
    {
     "data": {
      "image/png": "[encoded data removed]",
      "text/plain": [
       "<Figure size 432x288 with 1 Axes>"
      ]
     },
     "metadata": {
      "needs_background": "light"
     },
     "output_type": "display_data"
    }
   ],
   "source": [
    "plt.title('fish data Humidity')\n",
    "plt.plot(df['S.No'], df['Humidity']) \n",
    "plt.xlabel('S.No')\n",
    "plt.ylabel('data')\n",
    "plt.legend( ['Humidity'])\n",
    "plt.show()"
   ]
  },
  {
   "cell_type": "code",
   "execution_count": 11,
   "id": "ac25b907-c4f8-4fd6-8b54-6938ea335379",
   "metadata": {},
   "outputs": [
    {
     "data": {
      "image/png": "[encoded data removed]",
      "text/plain": [
       "<Figure size 432x288 with 1 Axes>"
      ]
     },
     "metadata": {
      "needs_background": "light"
     },
     "output_type": "display_data"
    }
   ],
   "source": [
    "plt.hist(df['Humidity'])\n",
    "\n",
    "plt.show()"
   ]
  },
  {
   "cell_type": "markdown",
   "id": "91e26a2b-24ff-4410-a8a1-e5d05e10ae21",
   "metadata": {
    "tags": []
   },
   "source": [
    "### Light"
   ]
  },
  {
   "cell_type": "code",
   "execution_count": 12,
   "id": "369ac26e-ba92-4f68-9f47-8aaab4bff850",
   "metadata": {},
   "outputs": [
    {
     "data": {
      "image/png": "[encoded data removed]",
      "text/plain": [
       "<Figure size 432x288 with 1 Axes>"
      ]
     },
     "metadata": {
      "needs_background": "light"
     },
     "output_type": "display_data"
    }
   ],
   "source": [
    "plt.title('fish data Light')\n",
    "plt.plot(df['S.No'], df['Light']) \n",
    "plt.xlabel('S.No')\n",
    "plt.ylabel('data')\n",
    "plt.legend(['Light'])\n",
    "plt.show()"
   ]
  },
  {
   "cell_type": "code",
   "execution_count": 13,
   "id": "02cbbf7f-0d73-402f-bb6b-bb7e2168be9e",
   "metadata": {},
   "outputs": [
    {
     "data": {
      "image/png": "[encoded data removed]",
      "text/plain": [
       "<Figure size 432x288 with 1 Axes>"
      ]
     },
     "metadata": {
      "needs_background": "light"
     },
     "output_type": "display_data"
    }
   ],
   "source": [
    "plt.hist(df['Light'])\n",
    "\n",
    "plt.show()"
   ]
  },
  {
   "cell_type": "markdown",
   "id": "6d21089c-ef6d-4a29-a3ce-bfb032a9ccaf",
   "metadata": {
    "tags": []
   },
   "source": [
    "### CO"
   ]
  },
  {
   "cell_type": "code",
   "execution_count": 14,
   "id": "3866e970-1b2e-4944-84f3-ad23752c5d33",
   "metadata": {},
   "outputs": [
    {
     "data": {
      "image/png": "[encoded data removed]",
      "text/plain": [
       "<Figure size 432x288 with 1 Axes>"
      ]
     },
     "metadata": {
      "needs_background": "light"
     },
     "output_type": "display_data"
    }
   ],
   "source": [
    "plt.title('fish data CO')\n",
    "plt.plot(df['S.No'], df['CO']) \n",
    "plt.xlabel('S.No')\n",
    "plt.ylabel('data')\n",
    "plt.legend(['CO'])\n",
    "plt.show()"
   ]
  },
  {
   "cell_type": "markdown",
   "id": "d50ea489-54c5-44d9-8aac-e9867cdc5bf1",
   "metadata": {},
   "source": [
    "### pH"
   ]
  },
  {
   "cell_type": "code",
   "execution_count": 15,
   "id": "6ba9b50e-f003-4493-803d-937cad1287c4",
   "metadata": {},
   "outputs": [
    {
     "data": {
      "image/png": "[encoded data removed]",
      "text/plain": [
       "<Figure size 432x288 with 1 Axes>"
      ]
     },
     "metadata": {
      "needs_background": "light"
     },
     "output_type": "display_data"
    }
   ],
   "source": [
    "plt.title('fish data pH')\n",
    "plt.plot(df['S.No'], df['pH']) \n",
    "plt.xlabel('S.No')\n",
    "plt.ylabel('data')\n",
    "plt.legend(['pH'])\n",
    "plt.show()"
   ]
  },
  {
   "cell_type": "markdown",
   "id": "39bdd4ab-e85d-4f06-bb28-09e2d89a660c",
   "metadata": {
    "tags": []
   },
   "source": [
    "# Preparation"
   ]
  },
  {
   "cell_type": "markdown",
   "id": "8bfe671d-15f5-4f86-a961-78b33a89f6ae",
   "metadata": {},
   "source": [
    "## check null"
   ]
  },
  {
   "cell_type": "code",
   "execution_count": 16,
   "id": "d1b0628d-4c3b-44cb-a68e-6441b26a5ee6",
   "metadata": {},
   "outputs": [
    {
     "data": {
      "text/plain": [
       "True"
      ]
     },
     "execution_count": 16,
     "metadata": {},
     "output_type": "execute_result"
    }
   ],
   "source": [
    "df.isnull().values.any()"
   ]
  },
  {
   "cell_type": "code",
   "execution_count": 17,
   "id": "6fcc1a5d-0a07-4792-9f86-d0d433fcdfa2",
   "metadata": {},
   "outputs": [
    {
     "data": {
      "text/plain": [
       "S.No            0\n",
       "Year            0\n",
       "Month           0\n",
       "Day             0\n",
       "Hour            0\n",
       "Minute          0\n",
       "Second          0\n",
       "PM1           241\n",
       "PM2.5           0\n",
       "PM10            0\n",
       "Temp            0\n",
       "Humidity        0\n",
       "Light           0\n",
       "CO              0\n",
       "Water Temp     80\n",
       "pH            815\n",
       "dtype: int64"
      ]
     },
     "execution_count": 17,
     "metadata": {},
     "output_type": "execute_result"
    }
   ],
   "source": [
    "df.isnull().sum()"
   ]
  },
  {
   "cell_type": "code",
   "execution_count": 18,
   "id": "f7fbb4d5-c255-40cd-98d4-e5d29fb1bb41",
   "metadata": {},
   "outputs": [
    {
     "data": {
      "text/plain": [
       "1136"
      ]
     },
     "execution_count": 18,
     "metadata": {},
     "output_type": "execute_result"
    }
   ],
   "source": [
    "df.isnull().sum().sum()"
   ]
  },
  {
   "cell_type": "markdown",
   "id": "cfc6ea48-ad16-4497-a9d0-6586e588446f",
   "metadata": {},
   "source": [
    "### remove null"
   ]
  },
  {
   "cell_type": "code",
   "execution_count": 19,
   "id": "63f08953-cfe4-4022-a996-ea3eaf8dc02c",
   "metadata": {},
   "outputs": [
    {
     "name": "stdout",
     "output_type": "stream",
     "text": [
      "        S.No  Year  Month  Day  Hour  Minute  Second   PM1  PM2.5  PM10  Temp  \\\n",
      "0          1  2019     11   26    10      27      20   8.0     12    14    25   \n",
      "1          2  2019     11   26    10      28      12   9.0     12    15    25   \n",
      "2          3  2019     11   26    10      29       4  10.0     14    15    26   \n",
      "3          4  2019     11   26    10      29      56   8.0     12    12    26   \n",
      "4          5  2019     11   26    10      30      43   9.0     12    15    26   \n",
      "...      ...   ...    ...  ...   ...     ...     ...   ...    ...   ...   ...   \n",
      "23531  23532  2019     12   10     8       8      23  18.0     27    28    45   \n",
      "23532  23533  2019     12   10     8       9       9  19.0     33    48    47   \n",
      "23533  23534  2019     12   10     8       9      57  22.0     30    34    47   \n",
      "23534  23535  2019     12   10     8      10      49  21.0     35    47    51   \n",
      "23535  23536  2019     12   10     8      11      41  23.0     34    39    47   \n",
      "\n",
      "       Humidity  Light    CO  Water Temp    pH  \n",
      "0            91   34.0  95.0       24.63  6.52  \n",
      "1            91   34.0  95.0       24.63  6.59  \n",
      "2            89   34.0  95.0       24.63  6.53  \n",
      "3            90   34.0  95.0       24.56  6.59  \n",
      "4            91   34.0  95.0       24.56  6.54  \n",
      "...         ...    ...   ...         ...   ...  \n",
      "23531       -13   35.0  95.0       27.06  6.34  \n",
      "23532         9   35.0  95.0       27.06  6.35  \n",
      "23533         8   35.0  95.0       27.06  6.34  \n",
      "23534         6   34.0  95.0       27.06  6.38  \n",
      "23535         8   34.0  95.0       27.06  6.34  \n",
      "\n",
      "[22575 rows x 16 columns]\n"
     ]
    }
   ],
   "source": [
    "data = df.dropna()\n",
    "print(data)"
   ]
  },
  {
   "cell_type": "markdown",
   "id": "d29865a8-107d-4901-8483-43a719e2d6ec",
   "metadata": {},
   "source": [
    "## check duplicate"
   ]
  },
  {
   "cell_type": "code",
   "execution_count": 20,
   "id": "fe21f48e-177d-4b3e-a715-a2ef9f462781",
   "metadata": {},
   "outputs": [
    {
     "data": {
      "text/plain": [
       "0        False\n",
       "1        False\n",
       "2        False\n",
       "3        False\n",
       "4        False\n",
       "         ...  \n",
       "23531    False\n",
       "23532    False\n",
       "23533    False\n",
       "23534    False\n",
       "23535    False\n",
       "Length: 22575, dtype: bool"
      ]
     },
     "execution_count": 20,
     "metadata": {},
     "output_type": "execute_result"
    }
   ],
   "source": [
    "bool_series = data.duplicated()\n",
    "bool_series"
   ]
  },
  {
   "cell_type": "markdown",
   "id": "7198bf75-ac67-4c47-b879-ba1b1c10cfb8",
   "metadata": {
    "tags": []
   },
   "source": [
    "### remove duplicate"
   ]
  },
  {
   "cell_type": "code",
   "execution_count": 21,
   "id": "c707b188-e4d6-484d-a7d8-bdb37f3a7b6d",
   "metadata": {},
   "outputs": [
    {
     "name": "stdout",
     "output_type": "stream",
     "text": [
      "Boolean series:\n",
      "0        False\n",
      "1        False\n",
      "2        False\n",
      "3        False\n",
      "4        False\n",
      "         ...  \n",
      "23531    False\n",
      "23532    False\n",
      "23533    False\n",
      "23534    False\n",
      "23535    False\n",
      "Length: 22575, dtype: bool\n",
      "\n",
      "\n",
      "DataFrame after keeping only the last instance of the duplicate rows:\n"
     ]
    },
    {
     "data": {
      "text/html": [
       "<div>\n",
       "<style scoped>\n",
       "    .dataframe tbody tr th:only-of-type {\n",
       "        vertical-align: middle;\n",
       "    }\n",
       "\n",
       "    .dataframe tbody tr th {\n",
       "        vertical-align: top;\n",
       "    }\n",
       "\n",
       "    .dataframe thead th {\n",
       "        text-align: right;\n",
       "    }\n",
       "</style>\n",
       "<table border=\"1\" class=\"dataframe\">\n",
       "  <thead>\n",
       "    <tr style=\"text-align: right;\">\n",
       "      <th></th>\n",
       "      <th>S.No</th>\n",
       "      <th>Year</th>\n",
       "      <th>Month</th>\n",
       "      <th>Day</th>\n",
       "      <th>Hour</th>\n",
       "      <th>Minute</th>\n",
       "      <th>Second</th>\n",
       "      <th>PM1</th>\n",
       "      <th>PM2.5</th>\n",
       "      <th>PM10</th>\n",
       "      <th>Temp</th>\n",
       "      <th>Humidity</th>\n",
       "      <th>Light</th>\n",
       "      <th>CO</th>\n",
       "      <th>Water Temp</th>\n",
       "      <th>pH</th>\n",
       "    </tr>\n",
       "  </thead>\n",
       "  <tbody>\n",
       "    <tr>\n",
       "      <th>0</th>\n",
       "      <td>1</td>\n",
       "      <td>2019</td>\n",
       "      <td>11</td>\n",
       "      <td>26</td>\n",
       "      <td>10</td>\n",
       "      <td>27</td>\n",
       "      <td>20</td>\n",
       "      <td>8.0</td>\n",
       "      <td>12</td>\n",
       "      <td>14</td>\n",
       "      <td>25</td>\n",
       "      <td>91</td>\n",
       "      <td>34.0</td>\n",
       "      <td>95.0</td>\n",
       "      <td>24.63</td>\n",
       "      <td>6.52</td>\n",
       "    </tr>\n",
       "    <tr>\n",
       "      <th>1</th>\n",
       "      <td>2</td>\n",
       "      <td>2019</td>\n",
       "      <td>11</td>\n",
       "      <td>26</td>\n",
       "      <td>10</td>\n",
       "      <td>28</td>\n",
       "      <td>12</td>\n",
       "      <td>9.0</td>\n",
       "      <td>12</td>\n",
       "      <td>15</td>\n",
       "      <td>25</td>\n",
       "      <td>91</td>\n",
       "      <td>34.0</td>\n",
       "      <td>95.0</td>\n",
       "      <td>24.63</td>\n",
       "      <td>6.59</td>\n",
       "    </tr>\n",
       "    <tr>\n",
       "      <th>2</th>\n",
       "      <td>3</td>\n",
       "      <td>2019</td>\n",
       "      <td>11</td>\n",
       "      <td>26</td>\n",
       "      <td>10</td>\n",
       "      <td>29</td>\n",
       "      <td>4</td>\n",
       "      <td>10.0</td>\n",
       "      <td>14</td>\n",
       "      <td>15</td>\n",
       "      <td>26</td>\n",
       "      <td>89</td>\n",
       "      <td>34.0</td>\n",
       "      <td>95.0</td>\n",
       "      <td>24.63</td>\n",
       "      <td>6.53</td>\n",
       "    </tr>\n",
       "    <tr>\n",
       "      <th>3</th>\n",
       "      <td>4</td>\n",
       "      <td>2019</td>\n",
       "      <td>11</td>\n",
       "      <td>26</td>\n",
       "      <td>10</td>\n",
       "      <td>29</td>\n",
       "      <td>56</td>\n",
       "      <td>8.0</td>\n",
       "      <td>12</td>\n",
       "      <td>12</td>\n",
       "      <td>26</td>\n",
       "      <td>90</td>\n",
       "      <td>34.0</td>\n",
       "      <td>95.0</td>\n",
       "      <td>24.56</td>\n",
       "      <td>6.59</td>\n",
       "    </tr>\n",
       "    <tr>\n",
       "      <th>4</th>\n",
       "      <td>5</td>\n",
       "      <td>2019</td>\n",
       "      <td>11</td>\n",
       "      <td>26</td>\n",
       "      <td>10</td>\n",
       "      <td>30</td>\n",
       "      <td>43</td>\n",
       "      <td>9.0</td>\n",
       "      <td>12</td>\n",
       "      <td>15</td>\n",
       "      <td>26</td>\n",
       "      <td>91</td>\n",
       "      <td>34.0</td>\n",
       "      <td>95.0</td>\n",
       "      <td>24.56</td>\n",
       "      <td>6.54</td>\n",
       "    </tr>\n",
       "    <tr>\n",
       "      <th>...</th>\n",
       "      <td>...</td>\n",
       "      <td>...</td>\n",
       "      <td>...</td>\n",
       "      <td>...</td>\n",
       "      <td>...</td>\n",
       "      <td>...</td>\n",
       "      <td>...</td>\n",
       "      <td>...</td>\n",
       "      <td>...</td>\n",
       "      <td>...</td>\n",
       "      <td>...</td>\n",
       "      <td>...</td>\n",
       "      <td>...</td>\n",
       "      <td>...</td>\n",
       "      <td>...</td>\n",
       "      <td>...</td>\n",
       "    </tr>\n",
       "    <tr>\n",
       "      <th>23531</th>\n",
       "      <td>23532</td>\n",
       "      <td>2019</td>\n",
       "      <td>12</td>\n",
       "      <td>10</td>\n",
       "      <td>8</td>\n",
       "      <td>8</td>\n",
       "      <td>23</td>\n",
       "      <td>18.0</td>\n",
       "      <td>27</td>\n",
       "      <td>28</td>\n",
       "      <td>45</td>\n",
       "      <td>-13</td>\n",
       "      <td>35.0</td>\n",
       "      <td>95.0</td>\n",
       "      <td>27.06</td>\n",
       "      <td>6.34</td>\n",
       "    </tr>\n",
       "    <tr>\n",
       "      <th>23532</th>\n",
       "      <td>23533</td>\n",
       "      <td>2019</td>\n",
       "      <td>12</td>\n",
       "      <td>10</td>\n",
       "      <td>8</td>\n",
       "      <td>9</td>\n",
       "      <td>9</td>\n",
       "      <td>19.0</td>\n",
       "      <td>33</td>\n",
       "      <td>48</td>\n",
       "      <td>47</td>\n",
       "      <td>9</td>\n",
       "      <td>35.0</td>\n",
       "      <td>95.0</td>\n",
       "      <td>27.06</td>\n",
       "      <td>6.35</td>\n",
       "    </tr>\n",
       "    <tr>\n",
       "      <th>23533</th>\n",
       "      <td>23534</td>\n",
       "      <td>2019</td>\n",
       "      <td>12</td>\n",
       "      <td>10</td>\n",
       "      <td>8</td>\n",
       "      <td>9</td>\n",
       "      <td>57</td>\n",
       "      <td>22.0</td>\n",
       "      <td>30</td>\n",
       "      <td>34</td>\n",
       "      <td>47</td>\n",
       "      <td>8</td>\n",
       "      <td>35.0</td>\n",
       "      <td>95.0</td>\n",
       "      <td>27.06</td>\n",
       "      <td>6.34</td>\n",
       "    </tr>\n",
       "    <tr>\n",
       "      <th>23534</th>\n",
       "      <td>23535</td>\n",
       "      <td>2019</td>\n",
       "      <td>12</td>\n",
       "      <td>10</td>\n",
       "      <td>8</td>\n",
       "      <td>10</td>\n",
       "      <td>49</td>\n",
       "      <td>21.0</td>\n",
       "      <td>35</td>\n",
       "      <td>47</td>\n",
       "      <td>51</td>\n",
       "      <td>6</td>\n",
       "      <td>34.0</td>\n",
       "      <td>95.0</td>\n",
       "      <td>27.06</td>\n",
       "      <td>6.38</td>\n",
       "    </tr>\n",
       "    <tr>\n",
       "      <th>23535</th>\n",
       "      <td>23536</td>\n",
       "      <td>2019</td>\n",
       "      <td>12</td>\n",
       "      <td>10</td>\n",
       "      <td>8</td>\n",
       "      <td>11</td>\n",
       "      <td>41</td>\n",
       "      <td>23.0</td>\n",
       "      <td>34</td>\n",
       "      <td>39</td>\n",
       "      <td>47</td>\n",
       "      <td>8</td>\n",
       "      <td>34.0</td>\n",
       "      <td>95.0</td>\n",
       "      <td>27.06</td>\n",
       "      <td>6.34</td>\n",
       "    </tr>\n",
       "  </tbody>\n",
       "</table>\n",
       "<p>22575 rows × 16 columns</p>\n",
       "</div>"
      ],
      "text/plain": [
       "        S.No  Year  Month  Day  Hour  Minute  Second   PM1  PM2.5  PM10  Temp  \\\n",
       "0          1  2019     11   26    10      27      20   8.0     12    14    25   \n",
       "1          2  2019     11   26    10      28      12   9.0     12    15    25   \n",
       "2          3  2019     11   26    10      29       4  10.0     14    15    26   \n",
       "3          4  2019     11   26    10      29      56   8.0     12    12    26   \n",
       "4          5  2019     11   26    10      30      43   9.0     12    15    26   \n",
       "...      ...   ...    ...  ...   ...     ...     ...   ...    ...   ...   ...   \n",
       "23531  23532  2019     12   10     8       8      23  18.0     27    28    45   \n",
       "23532  23533  2019     12   10     8       9       9  19.0     33    48    47   \n",
       "23533  23534  2019     12   10     8       9      57  22.0     30    34    47   \n",
       "23534  23535  2019     12   10     8      10      49  21.0     35    47    51   \n",
       "23535  23536  2019     12   10     8      11      41  23.0     34    39    47   \n",
       "\n",
       "       Humidity  Light    CO  Water Temp    pH  \n",
       "0            91   34.0  95.0       24.63  6.52  \n",
       "1            91   34.0  95.0       24.63  6.59  \n",
       "2            89   34.0  95.0       24.63  6.53  \n",
       "3            90   34.0  95.0       24.56  6.59  \n",
       "4            91   34.0  95.0       24.56  6.54  \n",
       "...         ...    ...   ...         ...   ...  \n",
       "23531       -13   35.0  95.0       27.06  6.34  \n",
       "23532         9   35.0  95.0       27.06  6.35  \n",
       "23533         8   35.0  95.0       27.06  6.34  \n",
       "23534         6   34.0  95.0       27.06  6.38  \n",
       "23535         8   34.0  95.0       27.06  6.34  \n",
       "\n",
       "[22575 rows x 16 columns]"
      ]
     },
     "execution_count": 21,
     "metadata": {},
     "output_type": "execute_result"
    }
   ],
   "source": [
    "# Use the keep parameter to consider only the last instance of a duplicate row to be unique\n",
    "bool_series = data.duplicated(keep='last')\n",
    "print('Boolean series:')\n",
    "print(bool_series)\n",
    "print('\\n')\n",
    "print('DataFrame after keeping only the last instance of the duplicate rows:')\n",
    "\n",
    "# The `~` sign is used for negation. It changes the boolean value True to False and False to True\n",
    "data[~bool_series]"
   ]
  },
  {
   "cell_type": "markdown",
   "id": "6c4407ab-fff0-469c-b7cd-4e6e53ad1776",
   "metadata": {
    "tags": []
   },
   "source": [
    "# Normalization"
   ]
  },
  {
   "cell_type": "markdown",
   "id": "852dac37-f930-443e-a14a-5b5acd488d2c",
   "metadata": {
    "tags": []
   },
   "source": [
    "### Clean PM10"
   ]
  },
  {
   "cell_type": "code",
   "execution_count": 22,
   "id": "17783beb-16bb-4f7f-a829-615ddaaf1426",
   "metadata": {},
   "outputs": [
    {
     "data": {
      "text/html": [
       "<div>\n",
       "<style scoped>\n",
       "    .dataframe tbody tr th:only-of-type {\n",
       "        vertical-align: middle;\n",
       "    }\n",
       "\n",
       "    .dataframe tbody tr th {\n",
       "        vertical-align: top;\n",
       "    }\n",
       "\n",
       "    .dataframe thead th {\n",
       "        text-align: right;\n",
       "    }\n",
       "</style>\n",
       "<table border=\"1\" class=\"dataframe\">\n",
       "  <thead>\n",
       "    <tr style=\"text-align: right;\">\n",
       "      <th></th>\n",
       "      <th>S.No</th>\n",
       "      <th>Year</th>\n",
       "      <th>Month</th>\n",
       "      <th>Day</th>\n",
       "      <th>Hour</th>\n",
       "      <th>Minute</th>\n",
       "      <th>Second</th>\n",
       "      <th>PM1</th>\n",
       "      <th>PM2.5</th>\n",
       "      <th>PM10</th>\n",
       "      <th>Temp</th>\n",
       "      <th>Humidity</th>\n",
       "      <th>Light</th>\n",
       "      <th>CO</th>\n",
       "      <th>Water Temp</th>\n",
       "      <th>pH</th>\n",
       "    </tr>\n",
       "  </thead>\n",
       "  <tbody>\n",
       "    <tr>\n",
       "      <th>0</th>\n",
       "      <td>1</td>\n",
       "      <td>2019</td>\n",
       "      <td>11</td>\n",
       "      <td>26</td>\n",
       "      <td>10</td>\n",
       "      <td>27</td>\n",
       "      <td>20</td>\n",
       "      <td>8.0</td>\n",
       "      <td>12</td>\n",
       "      <td>14</td>\n",
       "      <td>25</td>\n",
       "      <td>91</td>\n",
       "      <td>34.0</td>\n",
       "      <td>95.0</td>\n",
       "      <td>24.63</td>\n",
       "      <td>6.52</td>\n",
       "    </tr>\n",
       "    <tr>\n",
       "      <th>1</th>\n",
       "      <td>2</td>\n",
       "      <td>2019</td>\n",
       "      <td>11</td>\n",
       "      <td>26</td>\n",
       "      <td>10</td>\n",
       "      <td>28</td>\n",
       "      <td>12</td>\n",
       "      <td>9.0</td>\n",
       "      <td>12</td>\n",
       "      <td>15</td>\n",
       "      <td>25</td>\n",
       "      <td>91</td>\n",
       "      <td>34.0</td>\n",
       "      <td>95.0</td>\n",
       "      <td>24.63</td>\n",
       "      <td>6.59</td>\n",
       "    </tr>\n",
       "    <tr>\n",
       "      <th>2</th>\n",
       "      <td>3</td>\n",
       "      <td>2019</td>\n",
       "      <td>11</td>\n",
       "      <td>26</td>\n",
       "      <td>10</td>\n",
       "      <td>29</td>\n",
       "      <td>4</td>\n",
       "      <td>10.0</td>\n",
       "      <td>14</td>\n",
       "      <td>15</td>\n",
       "      <td>26</td>\n",
       "      <td>89</td>\n",
       "      <td>34.0</td>\n",
       "      <td>95.0</td>\n",
       "      <td>24.63</td>\n",
       "      <td>6.53</td>\n",
       "    </tr>\n",
       "    <tr>\n",
       "      <th>3</th>\n",
       "      <td>4</td>\n",
       "      <td>2019</td>\n",
       "      <td>11</td>\n",
       "      <td>26</td>\n",
       "      <td>10</td>\n",
       "      <td>29</td>\n",
       "      <td>56</td>\n",
       "      <td>8.0</td>\n",
       "      <td>12</td>\n",
       "      <td>12</td>\n",
       "      <td>26</td>\n",
       "      <td>90</td>\n",
       "      <td>34.0</td>\n",
       "      <td>95.0</td>\n",
       "      <td>24.56</td>\n",
       "      <td>6.59</td>\n",
       "    </tr>\n",
       "    <tr>\n",
       "      <th>4</th>\n",
       "      <td>5</td>\n",
       "      <td>2019</td>\n",
       "      <td>11</td>\n",
       "      <td>26</td>\n",
       "      <td>10</td>\n",
       "      <td>30</td>\n",
       "      <td>43</td>\n",
       "      <td>9.0</td>\n",
       "      <td>12</td>\n",
       "      <td>15</td>\n",
       "      <td>26</td>\n",
       "      <td>91</td>\n",
       "      <td>34.0</td>\n",
       "      <td>95.0</td>\n",
       "      <td>24.56</td>\n",
       "      <td>6.54</td>\n",
       "    </tr>\n",
       "  </tbody>\n",
       "</table>\n",
       "</div>"
      ],
      "text/plain": [
       "   S.No  Year  Month  Day  Hour  Minute  Second   PM1  PM2.5  PM10  Temp  \\\n",
       "0     1  2019     11   26    10      27      20   8.0     12    14    25   \n",
       "1     2  2019     11   26    10      28      12   9.0     12    15    25   \n",
       "2     3  2019     11   26    10      29       4  10.0     14    15    26   \n",
       "3     4  2019     11   26    10      29      56   8.0     12    12    26   \n",
       "4     5  2019     11   26    10      30      43   9.0     12    15    26   \n",
       "\n",
       "   Humidity  Light    CO  Water Temp    pH  \n",
       "0        91   34.0  95.0       24.63  6.52  \n",
       "1        91   34.0  95.0       24.63  6.59  \n",
       "2        89   34.0  95.0       24.63  6.53  \n",
       "3        90   34.0  95.0       24.56  6.59  \n",
       "4        91   34.0  95.0       24.56  6.54  "
      ]
     },
     "execution_count": 22,
     "metadata": {},
     "output_type": "execute_result"
    }
   ],
   "source": [
    "#clean PM10\n",
    "data2 = data[(data['PM10']>0) & (data['PM10']<80)]\n",
    "data2.head()"
   ]
  },
  {
   "cell_type": "code",
   "execution_count": 23,
   "id": "a0d1c503-c872-4f6a-aa3e-25e22a5ccaeb",
   "metadata": {},
   "outputs": [
    {
     "data": {
      "image/png": "[encoded data removed]",
      "text/plain": [
       "<Figure size 432x288 with 1 Axes>"
      ]
     },
     "metadata": {
      "needs_background": "light"
     },
     "output_type": "display_data"
    }
   ],
   "source": [
    "plt.title('fish data PM')\n",
    "plt.plot(data2['S.No'], data2['PM10']) \n",
    "plt.xlabel('S.No')\n",
    "plt.ylabel('data')\n",
    "plt.legend(['PM10'])\n",
    "plt.show()"
   ]
  },
  {
   "cell_type": "markdown",
   "id": "72490d93-31ce-46fd-8c0a-8abb670da03e",
   "metadata": {
    "tags": []
   },
   "source": [
    "### Clean Temp"
   ]
  },
  {
   "cell_type": "code",
   "execution_count": 24,
   "id": "004c4c18-a32c-4030-b2dc-5bdfc6f8d0cd",
   "metadata": {},
   "outputs": [
    {
     "data": {
      "text/html": [
       "<div>\n",
       "<style scoped>\n",
       "    .dataframe tbody tr th:only-of-type {\n",
       "        vertical-align: middle;\n",
       "    }\n",
       "\n",
       "    .dataframe tbody tr th {\n",
       "        vertical-align: top;\n",
       "    }\n",
       "\n",
       "    .dataframe thead th {\n",
       "        text-align: right;\n",
       "    }\n",
       "</style>\n",
       "<table border=\"1\" class=\"dataframe\">\n",
       "  <thead>\n",
       "    <tr style=\"text-align: right;\">\n",
       "      <th></th>\n",
       "      <th>S.No</th>\n",
       "      <th>Year</th>\n",
       "      <th>Month</th>\n",
       "      <th>Day</th>\n",
       "      <th>Hour</th>\n",
       "      <th>Minute</th>\n",
       "      <th>Second</th>\n",
       "      <th>PM1</th>\n",
       "      <th>PM2.5</th>\n",
       "      <th>PM10</th>\n",
       "      <th>Temp</th>\n",
       "      <th>Humidity</th>\n",
       "      <th>Light</th>\n",
       "      <th>CO</th>\n",
       "      <th>Water Temp</th>\n",
       "      <th>pH</th>\n",
       "    </tr>\n",
       "  </thead>\n",
       "  <tbody>\n",
       "    <tr>\n",
       "      <th>0</th>\n",
       "      <td>1</td>\n",
       "      <td>2019</td>\n",
       "      <td>11</td>\n",
       "      <td>26</td>\n",
       "      <td>10</td>\n",
       "      <td>27</td>\n",
       "      <td>20</td>\n",
       "      <td>8.0</td>\n",
       "      <td>12</td>\n",
       "      <td>14</td>\n",
       "      <td>25</td>\n",
       "      <td>91</td>\n",
       "      <td>34.0</td>\n",
       "      <td>95.0</td>\n",
       "      <td>24.63</td>\n",
       "      <td>6.52</td>\n",
       "    </tr>\n",
       "    <tr>\n",
       "      <th>1</th>\n",
       "      <td>2</td>\n",
       "      <td>2019</td>\n",
       "      <td>11</td>\n",
       "      <td>26</td>\n",
       "      <td>10</td>\n",
       "      <td>28</td>\n",
       "      <td>12</td>\n",
       "      <td>9.0</td>\n",
       "      <td>12</td>\n",
       "      <td>15</td>\n",
       "      <td>25</td>\n",
       "      <td>91</td>\n",
       "      <td>34.0</td>\n",
       "      <td>95.0</td>\n",
       "      <td>24.63</td>\n",
       "      <td>6.59</td>\n",
       "    </tr>\n",
       "    <tr>\n",
       "      <th>2</th>\n",
       "      <td>3</td>\n",
       "      <td>2019</td>\n",
       "      <td>11</td>\n",
       "      <td>26</td>\n",
       "      <td>10</td>\n",
       "      <td>29</td>\n",
       "      <td>4</td>\n",
       "      <td>10.0</td>\n",
       "      <td>14</td>\n",
       "      <td>15</td>\n",
       "      <td>26</td>\n",
       "      <td>89</td>\n",
       "      <td>34.0</td>\n",
       "      <td>95.0</td>\n",
       "      <td>24.63</td>\n",
       "      <td>6.53</td>\n",
       "    </tr>\n",
       "    <tr>\n",
       "      <th>3</th>\n",
       "      <td>4</td>\n",
       "      <td>2019</td>\n",
       "      <td>11</td>\n",
       "      <td>26</td>\n",
       "      <td>10</td>\n",
       "      <td>29</td>\n",
       "      <td>56</td>\n",
       "      <td>8.0</td>\n",
       "      <td>12</td>\n",
       "      <td>12</td>\n",
       "      <td>26</td>\n",
       "      <td>90</td>\n",
       "      <td>34.0</td>\n",
       "      <td>95.0</td>\n",
       "      <td>24.56</td>\n",
       "      <td>6.59</td>\n",
       "    </tr>\n",
       "    <tr>\n",
       "      <th>4</th>\n",
       "      <td>5</td>\n",
       "      <td>2019</td>\n",
       "      <td>11</td>\n",
       "      <td>26</td>\n",
       "      <td>10</td>\n",
       "      <td>30</td>\n",
       "      <td>43</td>\n",
       "      <td>9.0</td>\n",
       "      <td>12</td>\n",
       "      <td>15</td>\n",
       "      <td>26</td>\n",
       "      <td>91</td>\n",
       "      <td>34.0</td>\n",
       "      <td>95.0</td>\n",
       "      <td>24.56</td>\n",
       "      <td>6.54</td>\n",
       "    </tr>\n",
       "  </tbody>\n",
       "</table>\n",
       "</div>"
      ],
      "text/plain": [
       "   S.No  Year  Month  Day  Hour  Minute  Second   PM1  PM2.5  PM10  Temp  \\\n",
       "0     1  2019     11   26    10      27      20   8.0     12    14    25   \n",
       "1     2  2019     11   26    10      28      12   9.0     12    15    25   \n",
       "2     3  2019     11   26    10      29       4  10.0     14    15    26   \n",
       "3     4  2019     11   26    10      29      56   8.0     12    12    26   \n",
       "4     5  2019     11   26    10      30      43   9.0     12    15    26   \n",
       "\n",
       "   Humidity  Light    CO  Water Temp    pH  \n",
       "0        91   34.0  95.0       24.63  6.52  \n",
       "1        91   34.0  95.0       24.63  6.59  \n",
       "2        89   34.0  95.0       24.63  6.53  \n",
       "3        90   34.0  95.0       24.56  6.59  \n",
       "4        91   34.0  95.0       24.56  6.54  "
      ]
     },
     "execution_count": 24,
     "metadata": {},
     "output_type": "execute_result"
    }
   ],
   "source": [
    "data3 = data2[(data2['Temp']>0) & (data2['PM10']<60)]\n",
    "data3.head()"
   ]
  },
  {
   "cell_type": "code",
   "execution_count": 25,
   "id": "09b23fc8-dd12-45da-a7b1-3d5182271315",
   "metadata": {},
   "outputs": [
    {
     "data": {
      "image/png": "[encoded data removed]",
      "text/plain": [
       "<Figure size 432x288 with 1 Axes>"
      ]
     },
     "metadata": {
      "needs_background": "light"
     },
     "output_type": "display_data"
    }
   ],
   "source": [
    "plt.title('fish data Temp')\n",
    "plt.plot(data3['S.No'], data3['Temp']) \n",
    "plt.xlabel('S.No')\n",
    "plt.ylabel('data')\n",
    "plt.legend(['Temp'])\n",
    "plt.show()"
   ]
  },
  {
   "cell_type": "markdown",
   "id": "d28b0997-52a2-42a2-acfa-554a897102e6",
   "metadata": {
    "tags": []
   },
   "source": [
    "### Clean Water Temp"
   ]
  },
  {
   "cell_type": "code",
   "execution_count": 26,
   "id": "f5c184e4-4765-40e7-8d4f-e09095923ae7",
   "metadata": {},
   "outputs": [
    {
     "data": {
      "text/html": [
       "<div>\n",
       "<style scoped>\n",
       "    .dataframe tbody tr th:only-of-type {\n",
       "        vertical-align: middle;\n",
       "    }\n",
       "\n",
       "    .dataframe tbody tr th {\n",
       "        vertical-align: top;\n",
       "    }\n",
       "\n",
       "    .dataframe thead th {\n",
       "        text-align: right;\n",
       "    }\n",
       "</style>\n",
       "<table border=\"1\" class=\"dataframe\">\n",
       "  <thead>\n",
       "    <tr style=\"text-align: right;\">\n",
       "      <th></th>\n",
       "      <th>S.No</th>\n",
       "      <th>Year</th>\n",
       "      <th>Month</th>\n",
       "      <th>Day</th>\n",
       "      <th>Hour</th>\n",
       "      <th>Minute</th>\n",
       "      <th>Second</th>\n",
       "      <th>PM1</th>\n",
       "      <th>PM2.5</th>\n",
       "      <th>PM10</th>\n",
       "      <th>Temp</th>\n",
       "      <th>Humidity</th>\n",
       "      <th>Light</th>\n",
       "      <th>CO</th>\n",
       "      <th>Water Temp</th>\n",
       "      <th>pH</th>\n",
       "    </tr>\n",
       "  </thead>\n",
       "  <tbody>\n",
       "    <tr>\n",
       "      <th>0</th>\n",
       "      <td>1</td>\n",
       "      <td>2019</td>\n",
       "      <td>11</td>\n",
       "      <td>26</td>\n",
       "      <td>10</td>\n",
       "      <td>27</td>\n",
       "      <td>20</td>\n",
       "      <td>8.0</td>\n",
       "      <td>12</td>\n",
       "      <td>14</td>\n",
       "      <td>25</td>\n",
       "      <td>91</td>\n",
       "      <td>34.0</td>\n",
       "      <td>95.0</td>\n",
       "      <td>24.63</td>\n",
       "      <td>6.52</td>\n",
       "    </tr>\n",
       "    <tr>\n",
       "      <th>1</th>\n",
       "      <td>2</td>\n",
       "      <td>2019</td>\n",
       "      <td>11</td>\n",
       "      <td>26</td>\n",
       "      <td>10</td>\n",
       "      <td>28</td>\n",
       "      <td>12</td>\n",
       "      <td>9.0</td>\n",
       "      <td>12</td>\n",
       "      <td>15</td>\n",
       "      <td>25</td>\n",
       "      <td>91</td>\n",
       "      <td>34.0</td>\n",
       "      <td>95.0</td>\n",
       "      <td>24.63</td>\n",
       "      <td>6.59</td>\n",
       "    </tr>\n",
       "    <tr>\n",
       "      <th>2</th>\n",
       "      <td>3</td>\n",
       "      <td>2019</td>\n",
       "      <td>11</td>\n",
       "      <td>26</td>\n",
       "      <td>10</td>\n",
       "      <td>29</td>\n",
       "      <td>4</td>\n",
       "      <td>10.0</td>\n",
       "      <td>14</td>\n",
       "      <td>15</td>\n",
       "      <td>26</td>\n",
       "      <td>89</td>\n",
       "      <td>34.0</td>\n",
       "      <td>95.0</td>\n",
       "      <td>24.63</td>\n",
       "      <td>6.53</td>\n",
       "    </tr>\n",
       "    <tr>\n",
       "      <th>3</th>\n",
       "      <td>4</td>\n",
       "      <td>2019</td>\n",
       "      <td>11</td>\n",
       "      <td>26</td>\n",
       "      <td>10</td>\n",
       "      <td>29</td>\n",
       "      <td>56</td>\n",
       "      <td>8.0</td>\n",
       "      <td>12</td>\n",
       "      <td>12</td>\n",
       "      <td>26</td>\n",
       "      <td>90</td>\n",
       "      <td>34.0</td>\n",
       "      <td>95.0</td>\n",
       "      <td>24.56</td>\n",
       "      <td>6.59</td>\n",
       "    </tr>\n",
       "    <tr>\n",
       "      <th>4</th>\n",
       "      <td>5</td>\n",
       "      <td>2019</td>\n",
       "      <td>11</td>\n",
       "      <td>26</td>\n",
       "      <td>10</td>\n",
       "      <td>30</td>\n",
       "      <td>43</td>\n",
       "      <td>9.0</td>\n",
       "      <td>12</td>\n",
       "      <td>15</td>\n",
       "      <td>26</td>\n",
       "      <td>91</td>\n",
       "      <td>34.0</td>\n",
       "      <td>95.0</td>\n",
       "      <td>24.56</td>\n",
       "      <td>6.54</td>\n",
       "    </tr>\n",
       "  </tbody>\n",
       "</table>\n",
       "</div>"
      ],
      "text/plain": [
       "   S.No  Year  Month  Day  Hour  Minute  Second   PM1  PM2.5  PM10  Temp  \\\n",
       "0     1  2019     11   26    10      27      20   8.0     12    14    25   \n",
       "1     2  2019     11   26    10      28      12   9.0     12    15    25   \n",
       "2     3  2019     11   26    10      29       4  10.0     14    15    26   \n",
       "3     4  2019     11   26    10      29      56   8.0     12    12    26   \n",
       "4     5  2019     11   26    10      30      43   9.0     12    15    26   \n",
       "\n",
       "   Humidity  Light    CO  Water Temp    pH  \n",
       "0        91   34.0  95.0       24.63  6.52  \n",
       "1        91   34.0  95.0       24.63  6.59  \n",
       "2        89   34.0  95.0       24.63  6.53  \n",
       "3        90   34.0  95.0       24.56  6.59  \n",
       "4        91   34.0  95.0       24.56  6.54  "
      ]
     },
     "execution_count": 26,
     "metadata": {},
     "output_type": "execute_result"
    }
   ],
   "source": [
    "data4 = data3[(data3['Water Temp']>0) & (data3['Water Temp']<100) & (data3['Water Temp']>20)]\n",
    "data4.head()"
   ]
  },
  {
   "cell_type": "code",
   "execution_count": 27,
   "id": "dc53ea08-97c4-49eb-826f-6c0d78eec008",
   "metadata": {},
   "outputs": [
    {
     "data": {
      "image/png": "[encoded data removed]",
      "text/plain": [
       "<Figure size 432x288 with 1 Axes>"
      ]
     },
     "metadata": {
      "needs_background": "light"
     },
     "output_type": "display_data"
    }
   ],
   "source": [
    "plt.title('fish data WaterTemp')\n",
    "plt.plot(data4['S.No'], data4['Water Temp'])\n",
    "plt.xlabel('S.No')\n",
    "plt.ylabel('data')\n",
    "plt.legend( ['Water Temp'])\n",
    "plt.show()"
   ]
  },
  {
   "cell_type": "markdown",
   "id": "b1828f7a-d5e9-4694-8df7-05468c09ba01",
   "metadata": {
    "tags": []
   },
   "source": [
    "### Clean Humidity"
   ]
  },
  {
   "cell_type": "code",
   "execution_count": 28,
   "id": "94e31fe4-982b-46cf-a3b1-1b42f0e03886",
   "metadata": {},
   "outputs": [
    {
     "data": {
      "text/plain": [
       "count    22407.000000\n",
       "mean        33.592181\n",
       "std         39.925466\n",
       "min        -24.000000\n",
       "25%          3.000000\n",
       "50%         10.000000\n",
       "75%         82.000000\n",
       "max         92.000000\n",
       "Name: Humidity, dtype: float64"
      ]
     },
     "execution_count": 28,
     "metadata": {},
     "output_type": "execute_result"
    }
   ],
   "source": [
    "data4['Humidity'].describe()"
   ]
  },
  {
   "cell_type": "code",
   "execution_count": 29,
   "id": "38635c6e-d7cf-4991-b850-5a39639bec4e",
   "metadata": {},
   "outputs": [
    {
     "data": {
      "text/html": [
       "<div>\n",
       "<style scoped>\n",
       "    .dataframe tbody tr th:only-of-type {\n",
       "        vertical-align: middle;\n",
       "    }\n",
       "\n",
       "    .dataframe tbody tr th {\n",
       "        vertical-align: top;\n",
       "    }\n",
       "\n",
       "    .dataframe thead th {\n",
       "        text-align: right;\n",
       "    }\n",
       "</style>\n",
       "<table border=\"1\" class=\"dataframe\">\n",
       "  <thead>\n",
       "    <tr style=\"text-align: right;\">\n",
       "      <th></th>\n",
       "      <th>S.No</th>\n",
       "      <th>Year</th>\n",
       "      <th>Month</th>\n",
       "      <th>Day</th>\n",
       "      <th>Hour</th>\n",
       "      <th>Minute</th>\n",
       "      <th>Second</th>\n",
       "      <th>PM1</th>\n",
       "      <th>PM2.5</th>\n",
       "      <th>PM10</th>\n",
       "      <th>Temp</th>\n",
       "      <th>Humidity</th>\n",
       "      <th>Light</th>\n",
       "      <th>CO</th>\n",
       "      <th>Water Temp</th>\n",
       "      <th>pH</th>\n",
       "    </tr>\n",
       "  </thead>\n",
       "  <tbody>\n",
       "    <tr>\n",
       "      <th>184</th>\n",
       "      <td>185</td>\n",
       "      <td>2019</td>\n",
       "      <td>11</td>\n",
       "      <td>26</td>\n",
       "      <td>13</td>\n",
       "      <td>2</td>\n",
       "      <td>27</td>\n",
       "      <td>4.0</td>\n",
       "      <td>7</td>\n",
       "      <td>7</td>\n",
       "      <td>28</td>\n",
       "      <td>10</td>\n",
       "      <td>34.0</td>\n",
       "      <td>95.0</td>\n",
       "      <td>23.81</td>\n",
       "      <td>6.49000</td>\n",
       "    </tr>\n",
       "    <tr>\n",
       "      <th>185</th>\n",
       "      <td>186</td>\n",
       "      <td>2019</td>\n",
       "      <td>11</td>\n",
       "      <td>26</td>\n",
       "      <td>13</td>\n",
       "      <td>3</td>\n",
       "      <td>15</td>\n",
       "      <td>4.0</td>\n",
       "      <td>7</td>\n",
       "      <td>8</td>\n",
       "      <td>28</td>\n",
       "      <td>10</td>\n",
       "      <td>34.0</td>\n",
       "      <td>95.0</td>\n",
       "      <td>23.81</td>\n",
       "      <td>6.52019</td>\n",
       "    </tr>\n",
       "    <tr>\n",
       "      <th>186</th>\n",
       "      <td>187</td>\n",
       "      <td>2019</td>\n",
       "      <td>11</td>\n",
       "      <td>26</td>\n",
       "      <td>13</td>\n",
       "      <td>4</td>\n",
       "      <td>49</td>\n",
       "      <td>5.0</td>\n",
       "      <td>7</td>\n",
       "      <td>8</td>\n",
       "      <td>27</td>\n",
       "      <td>14</td>\n",
       "      <td>34.0</td>\n",
       "      <td>95.0</td>\n",
       "      <td>23.81</td>\n",
       "      <td>6.55000</td>\n",
       "    </tr>\n",
       "    <tr>\n",
       "      <th>187</th>\n",
       "      <td>188</td>\n",
       "      <td>2019</td>\n",
       "      <td>11</td>\n",
       "      <td>26</td>\n",
       "      <td>13</td>\n",
       "      <td>5</td>\n",
       "      <td>37</td>\n",
       "      <td>7.0</td>\n",
       "      <td>9</td>\n",
       "      <td>10</td>\n",
       "      <td>28</td>\n",
       "      <td>9</td>\n",
       "      <td>34.0</td>\n",
       "      <td>95.0</td>\n",
       "      <td>23.88</td>\n",
       "      <td>6.56000</td>\n",
       "    </tr>\n",
       "    <tr>\n",
       "      <th>188</th>\n",
       "      <td>189</td>\n",
       "      <td>2019</td>\n",
       "      <td>11</td>\n",
       "      <td>26</td>\n",
       "      <td>13</td>\n",
       "      <td>6</td>\n",
       "      <td>30</td>\n",
       "      <td>5.0</td>\n",
       "      <td>8</td>\n",
       "      <td>8</td>\n",
       "      <td>27</td>\n",
       "      <td>12</td>\n",
       "      <td>34.0</td>\n",
       "      <td>95.0</td>\n",
       "      <td>23.88</td>\n",
       "      <td>6.51000</td>\n",
       "    </tr>\n",
       "  </tbody>\n",
       "</table>\n",
       "</div>"
      ],
      "text/plain": [
       "     S.No  Year  Month  Day  Hour  Minute  Second  PM1  PM2.5  PM10  Temp  \\\n",
       "184   185  2019     11   26    13       2      27  4.0      7     7    28   \n",
       "185   186  2019     11   26    13       3      15  4.0      7     8    28   \n",
       "186   187  2019     11   26    13       4      49  5.0      7     8    27   \n",
       "187   188  2019     11   26    13       5      37  7.0      9    10    28   \n",
       "188   189  2019     11   26    13       6      30  5.0      8     8    27   \n",
       "\n",
       "     Humidity  Light    CO  Water Temp       pH  \n",
       "184        10   34.0  95.0       23.81  6.49000  \n",
       "185        10   34.0  95.0       23.81  6.52019  \n",
       "186        14   34.0  95.0       23.81  6.55000  \n",
       "187         9   34.0  95.0       23.88  6.56000  \n",
       "188        12   34.0  95.0       23.88  6.51000  "
      ]
     },
     "execution_count": 29,
     "metadata": {},
     "output_type": "execute_result"
    }
   ],
   "source": [
    "data5 = data4[(data4['Humidity']>0) & (data4['Humidity']<50)]\n",
    "data5.head()"
   ]
  },
  {
   "cell_type": "code",
   "execution_count": 30,
   "id": "11d8376c-0690-41b4-93d7-6b5ae0b18644",
   "metadata": {},
   "outputs": [
    {
     "data": {
      "image/png": "[encoded data removed]",
      "text/plain": [
       "<Figure size 432x288 with 1 Axes>"
      ]
     },
     "metadata": {
      "needs_background": "light"
     },
     "output_type": "display_data"
    }
   ],
   "source": [
    "plt.title('fish data Humidity')\n",
    "plt.plot(data5['S.No'], data5['Humidity']) \n",
    "plt.xlabel('S.No')\n",
    "plt.ylabel('data')\n",
    "plt.legend( ['Humidity'])\n",
    "plt.show()"
   ]
  },
  {
   "cell_type": "markdown",
   "id": "3d18c557-7aa7-4b72-8974-b90a08346947",
   "metadata": {
    "tags": []
   },
   "source": [
    "### Clean Light"
   ]
  },
  {
   "cell_type": "code",
   "execution_count": 31,
   "id": "56f80c71-877b-4200-a79c-fd23ed5d557c",
   "metadata": {},
   "outputs": [
    {
     "data": {
      "text/plain": [
       "count    9170.000000\n",
       "mean       36.262814\n",
       "std         1.999472\n",
       "min        32.000000\n",
       "25%        35.000000\n",
       "50%        36.000000\n",
       "75%        38.000000\n",
       "max        40.000000\n",
       "Name: Light, dtype: float64"
      ]
     },
     "execution_count": 31,
     "metadata": {},
     "output_type": "execute_result"
    }
   ],
   "source": [
    "data5['Light'].describe()"
   ]
  },
  {
   "cell_type": "code",
   "execution_count": 32,
   "id": "9ae266b6-74fe-4aa8-96aa-41e52f49c124",
   "metadata": {},
   "outputs": [
    {
     "data": {
      "text/html": [
       "<div>\n",
       "<style scoped>\n",
       "    .dataframe tbody tr th:only-of-type {\n",
       "        vertical-align: middle;\n",
       "    }\n",
       "\n",
       "    .dataframe tbody tr th {\n",
       "        vertical-align: top;\n",
       "    }\n",
       "\n",
       "    .dataframe thead th {\n",
       "        text-align: right;\n",
       "    }\n",
       "</style>\n",
       "<table border=\"1\" class=\"dataframe\">\n",
       "  <thead>\n",
       "    <tr style=\"text-align: right;\">\n",
       "      <th></th>\n",
       "      <th>S.No</th>\n",
       "      <th>Year</th>\n",
       "      <th>Month</th>\n",
       "      <th>Day</th>\n",
       "      <th>Hour</th>\n",
       "      <th>Minute</th>\n",
       "      <th>Second</th>\n",
       "      <th>PM1</th>\n",
       "      <th>PM2.5</th>\n",
       "      <th>PM10</th>\n",
       "      <th>Temp</th>\n",
       "      <th>Humidity</th>\n",
       "      <th>Light</th>\n",
       "      <th>CO</th>\n",
       "      <th>Water Temp</th>\n",
       "      <th>pH</th>\n",
       "    </tr>\n",
       "  </thead>\n",
       "  <tbody>\n",
       "    <tr>\n",
       "      <th>184</th>\n",
       "      <td>185</td>\n",
       "      <td>2019</td>\n",
       "      <td>11</td>\n",
       "      <td>26</td>\n",
       "      <td>13</td>\n",
       "      <td>2</td>\n",
       "      <td>27</td>\n",
       "      <td>4.0</td>\n",
       "      <td>7</td>\n",
       "      <td>7</td>\n",
       "      <td>28</td>\n",
       "      <td>10</td>\n",
       "      <td>34.0</td>\n",
       "      <td>95.0</td>\n",
       "      <td>23.81</td>\n",
       "      <td>6.49000</td>\n",
       "    </tr>\n",
       "    <tr>\n",
       "      <th>185</th>\n",
       "      <td>186</td>\n",
       "      <td>2019</td>\n",
       "      <td>11</td>\n",
       "      <td>26</td>\n",
       "      <td>13</td>\n",
       "      <td>3</td>\n",
       "      <td>15</td>\n",
       "      <td>4.0</td>\n",
       "      <td>7</td>\n",
       "      <td>8</td>\n",
       "      <td>28</td>\n",
       "      <td>10</td>\n",
       "      <td>34.0</td>\n",
       "      <td>95.0</td>\n",
       "      <td>23.81</td>\n",
       "      <td>6.52019</td>\n",
       "    </tr>\n",
       "    <tr>\n",
       "      <th>186</th>\n",
       "      <td>187</td>\n",
       "      <td>2019</td>\n",
       "      <td>11</td>\n",
       "      <td>26</td>\n",
       "      <td>13</td>\n",
       "      <td>4</td>\n",
       "      <td>49</td>\n",
       "      <td>5.0</td>\n",
       "      <td>7</td>\n",
       "      <td>8</td>\n",
       "      <td>27</td>\n",
       "      <td>14</td>\n",
       "      <td>34.0</td>\n",
       "      <td>95.0</td>\n",
       "      <td>23.81</td>\n",
       "      <td>6.55000</td>\n",
       "    </tr>\n",
       "    <tr>\n",
       "      <th>187</th>\n",
       "      <td>188</td>\n",
       "      <td>2019</td>\n",
       "      <td>11</td>\n",
       "      <td>26</td>\n",
       "      <td>13</td>\n",
       "      <td>5</td>\n",
       "      <td>37</td>\n",
       "      <td>7.0</td>\n",
       "      <td>9</td>\n",
       "      <td>10</td>\n",
       "      <td>28</td>\n",
       "      <td>9</td>\n",
       "      <td>34.0</td>\n",
       "      <td>95.0</td>\n",
       "      <td>23.88</td>\n",
       "      <td>6.56000</td>\n",
       "    </tr>\n",
       "    <tr>\n",
       "      <th>188</th>\n",
       "      <td>189</td>\n",
       "      <td>2019</td>\n",
       "      <td>11</td>\n",
       "      <td>26</td>\n",
       "      <td>13</td>\n",
       "      <td>6</td>\n",
       "      <td>30</td>\n",
       "      <td>5.0</td>\n",
       "      <td>8</td>\n",
       "      <td>8</td>\n",
       "      <td>27</td>\n",
       "      <td>12</td>\n",
       "      <td>34.0</td>\n",
       "      <td>95.0</td>\n",
       "      <td>23.88</td>\n",
       "      <td>6.51000</td>\n",
       "    </tr>\n",
       "  </tbody>\n",
       "</table>\n",
       "</div>"
      ],
      "text/plain": [
       "     S.No  Year  Month  Day  Hour  Minute  Second  PM1  PM2.5  PM10  Temp  \\\n",
       "184   185  2019     11   26    13       2      27  4.0      7     7    28   \n",
       "185   186  2019     11   26    13       3      15  4.0      7     8    28   \n",
       "186   187  2019     11   26    13       4      49  5.0      7     8    27   \n",
       "187   188  2019     11   26    13       5      37  7.0      9    10    28   \n",
       "188   189  2019     11   26    13       6      30  5.0      8     8    27   \n",
       "\n",
       "     Humidity  Light    CO  Water Temp       pH  \n",
       "184        10   34.0  95.0       23.81  6.49000  \n",
       "185        10   34.0  95.0       23.81  6.52019  \n",
       "186        14   34.0  95.0       23.81  6.55000  \n",
       "187         9   34.0  95.0       23.88  6.56000  \n",
       "188        12   34.0  95.0       23.88  6.51000  "
      ]
     },
     "execution_count": 32,
     "metadata": {},
     "output_type": "execute_result"
    }
   ],
   "source": [
    "data6 = data5[(data5['Light']>0) & (data5['Light']<37)]\n",
    "data6.head()"
   ]
  },
  {
   "cell_type": "code",
   "execution_count": 33,
   "id": "3dda55f1-97c5-4d7f-ad89-147ba4decbb7",
   "metadata": {},
   "outputs": [
    {
     "data": {
      "image/png": "[encoded data removed]",
      "text/plain": [
       "<Figure size 432x288 with 1 Axes>"
      ]
     },
     "metadata": {
      "needs_background": "light"
     },
     "output_type": "display_data"
    }
   ],
   "source": [
    "plt.title('fish data Light')\n",
    "plt.plot(data6['S.No'], data6['Light']) \n",
    "plt.xlabel('S.No')\n",
    "plt.ylabel('data')\n",
    "plt.legend(['Light'])\n",
    "plt.show()"
   ]
  },
  {
   "cell_type": "markdown",
   "id": "4c6a9e33-54df-4d75-ad1d-35fd63ae8695",
   "metadata": {
    "tags": []
   },
   "source": [
    "### Clean CO"
   ]
  },
  {
   "cell_type": "code",
   "execution_count": 34,
   "id": "95c23315-3024-4beb-a484-4106907dab59",
   "metadata": {},
   "outputs": [
    {
     "data": {
      "text/plain": [
       "count    5415.000000\n",
       "mean       94.994645\n",
       "std         0.210038\n",
       "min        85.000000\n",
       "25%        95.000000\n",
       "50%        95.000000\n",
       "75%        95.000000\n",
       "max        95.000000\n",
       "Name: CO, dtype: float64"
      ]
     },
     "execution_count": 34,
     "metadata": {},
     "output_type": "execute_result"
    }
   ],
   "source": [
    "data6['CO'].describe()"
   ]
  },
  {
   "cell_type": "code",
   "execution_count": 35,
   "id": "8927261d-da04-48f8-ad52-2a6cf42cffc9",
   "metadata": {},
   "outputs": [
    {
     "data": {
      "text/html": [
       "<div>\n",
       "<style scoped>\n",
       "    .dataframe tbody tr th:only-of-type {\n",
       "        vertical-align: middle;\n",
       "    }\n",
       "\n",
       "    .dataframe tbody tr th {\n",
       "        vertical-align: top;\n",
       "    }\n",
       "\n",
       "    .dataframe thead th {\n",
       "        text-align: right;\n",
       "    }\n",
       "</style>\n",
       "<table border=\"1\" class=\"dataframe\">\n",
       "  <thead>\n",
       "    <tr style=\"text-align: right;\">\n",
       "      <th></th>\n",
       "      <th>S.No</th>\n",
       "      <th>Year</th>\n",
       "      <th>Month</th>\n",
       "      <th>Day</th>\n",
       "      <th>Hour</th>\n",
       "      <th>Minute</th>\n",
       "      <th>Second</th>\n",
       "      <th>PM1</th>\n",
       "      <th>PM2.5</th>\n",
       "      <th>PM10</th>\n",
       "      <th>Temp</th>\n",
       "      <th>Humidity</th>\n",
       "      <th>Light</th>\n",
       "      <th>CO</th>\n",
       "      <th>Water Temp</th>\n",
       "      <th>pH</th>\n",
       "    </tr>\n",
       "  </thead>\n",
       "  <tbody>\n",
       "    <tr>\n",
       "      <th>184</th>\n",
       "      <td>185</td>\n",
       "      <td>2019</td>\n",
       "      <td>11</td>\n",
       "      <td>26</td>\n",
       "      <td>13</td>\n",
       "      <td>2</td>\n",
       "      <td>27</td>\n",
       "      <td>4.0</td>\n",
       "      <td>7</td>\n",
       "      <td>7</td>\n",
       "      <td>28</td>\n",
       "      <td>10</td>\n",
       "      <td>34.0</td>\n",
       "      <td>95.0</td>\n",
       "      <td>23.81</td>\n",
       "      <td>6.49000</td>\n",
       "    </tr>\n",
       "    <tr>\n",
       "      <th>185</th>\n",
       "      <td>186</td>\n",
       "      <td>2019</td>\n",
       "      <td>11</td>\n",
       "      <td>26</td>\n",
       "      <td>13</td>\n",
       "      <td>3</td>\n",
       "      <td>15</td>\n",
       "      <td>4.0</td>\n",
       "      <td>7</td>\n",
       "      <td>8</td>\n",
       "      <td>28</td>\n",
       "      <td>10</td>\n",
       "      <td>34.0</td>\n",
       "      <td>95.0</td>\n",
       "      <td>23.81</td>\n",
       "      <td>6.52019</td>\n",
       "    </tr>\n",
       "    <tr>\n",
       "      <th>186</th>\n",
       "      <td>187</td>\n",
       "      <td>2019</td>\n",
       "      <td>11</td>\n",
       "      <td>26</td>\n",
       "      <td>13</td>\n",
       "      <td>4</td>\n",
       "      <td>49</td>\n",
       "      <td>5.0</td>\n",
       "      <td>7</td>\n",
       "      <td>8</td>\n",
       "      <td>27</td>\n",
       "      <td>14</td>\n",
       "      <td>34.0</td>\n",
       "      <td>95.0</td>\n",
       "      <td>23.81</td>\n",
       "      <td>6.55000</td>\n",
       "    </tr>\n",
       "    <tr>\n",
       "      <th>187</th>\n",
       "      <td>188</td>\n",
       "      <td>2019</td>\n",
       "      <td>11</td>\n",
       "      <td>26</td>\n",
       "      <td>13</td>\n",
       "      <td>5</td>\n",
       "      <td>37</td>\n",
       "      <td>7.0</td>\n",
       "      <td>9</td>\n",
       "      <td>10</td>\n",
       "      <td>28</td>\n",
       "      <td>9</td>\n",
       "      <td>34.0</td>\n",
       "      <td>95.0</td>\n",
       "      <td>23.88</td>\n",
       "      <td>6.56000</td>\n",
       "    </tr>\n",
       "    <tr>\n",
       "      <th>188</th>\n",
       "      <td>189</td>\n",
       "      <td>2019</td>\n",
       "      <td>11</td>\n",
       "      <td>26</td>\n",
       "      <td>13</td>\n",
       "      <td>6</td>\n",
       "      <td>30</td>\n",
       "      <td>5.0</td>\n",
       "      <td>8</td>\n",
       "      <td>8</td>\n",
       "      <td>27</td>\n",
       "      <td>12</td>\n",
       "      <td>34.0</td>\n",
       "      <td>95.0</td>\n",
       "      <td>23.88</td>\n",
       "      <td>6.51000</td>\n",
       "    </tr>\n",
       "  </tbody>\n",
       "</table>\n",
       "</div>"
      ],
      "text/plain": [
       "     S.No  Year  Month  Day  Hour  Minute  Second  PM1  PM2.5  PM10  Temp  \\\n",
       "184   185  2019     11   26    13       2      27  4.0      7     7    28   \n",
       "185   186  2019     11   26    13       3      15  4.0      7     8    28   \n",
       "186   187  2019     11   26    13       4      49  5.0      7     8    27   \n",
       "187   188  2019     11   26    13       5      37  7.0      9    10    28   \n",
       "188   189  2019     11   26    13       6      30  5.0      8     8    27   \n",
       "\n",
       "     Humidity  Light    CO  Water Temp       pH  \n",
       "184        10   34.0  95.0       23.81  6.49000  \n",
       "185        10   34.0  95.0       23.81  6.52019  \n",
       "186        14   34.0  95.0       23.81  6.55000  \n",
       "187         9   34.0  95.0       23.88  6.56000  \n",
       "188        12   34.0  95.0       23.88  6.51000  "
      ]
     },
     "execution_count": 35,
     "metadata": {},
     "output_type": "execute_result"
    }
   ],
   "source": [
    "data7 = data6[(data6['CO']>0) & (data6['CO']<96)]\n",
    "data7.head()"
   ]
  },
  {
   "cell_type": "code",
   "execution_count": 36,
   "id": "e4033ab4-590f-4e6a-b6a2-b3397c26672b",
   "metadata": {},
   "outputs": [
    {
     "data": {
      "image/png": "[encoded data removed]",
      "text/plain": [
       "<Figure size 432x288 with 1 Axes>"
      ]
     },
     "metadata": {
      "needs_background": "light"
     },
     "output_type": "display_data"
    }
   ],
   "source": [
    "plt.title('fish data CO')\n",
    "plt.plot(data7['S.No'], data7['CO']) \n",
    "plt.xlabel('S.No')\n",
    "plt.ylabel('data')\n",
    "plt.legend(['CO'])\n",
    "plt.show()"
   ]
  },
  {
   "cell_type": "markdown",
   "id": "4f84ade2-65e5-473a-88ee-fc3853b933f3",
   "metadata": {
    "tags": []
   },
   "source": [
    "### Clean pH"
   ]
  },
  {
   "cell_type": "code",
   "execution_count": 37,
   "id": "3d847c6e-e274-4054-ba12-7e72d42ca650",
   "metadata": {},
   "outputs": [
    {
     "data": {
      "text/plain": [
       "count     5415.000000\n",
       "mean       349.369734\n",
       "std       4527.994975\n",
       "min          6.201900\n",
       "25%          6.370000\n",
       "50%          6.400000\n",
       "75%          6.430000\n",
       "max      62019.000000\n",
       "Name: pH, dtype: float64"
      ]
     },
     "execution_count": 37,
     "metadata": {},
     "output_type": "execute_result"
    }
   ],
   "source": [
    "data7['pH'].describe()"
   ]
  },
  {
   "cell_type": "code",
   "execution_count": 38,
   "id": "24895ef9-b83a-4aa5-9b59-878e133ccbef",
   "metadata": {},
   "outputs": [
    {
     "data": {
      "text/html": [
       "<div>\n",
       "<style scoped>\n",
       "    .dataframe tbody tr th:only-of-type {\n",
       "        vertical-align: middle;\n",
       "    }\n",
       "\n",
       "    .dataframe tbody tr th {\n",
       "        vertical-align: top;\n",
       "    }\n",
       "\n",
       "    .dataframe thead th {\n",
       "        text-align: right;\n",
       "    }\n",
       "</style>\n",
       "<table border=\"1\" class=\"dataframe\">\n",
       "  <thead>\n",
       "    <tr style=\"text-align: right;\">\n",
       "      <th></th>\n",
       "      <th>S.No</th>\n",
       "      <th>Year</th>\n",
       "      <th>Month</th>\n",
       "      <th>Day</th>\n",
       "      <th>Hour</th>\n",
       "      <th>Minute</th>\n",
       "      <th>Second</th>\n",
       "      <th>PM1</th>\n",
       "      <th>PM2.5</th>\n",
       "      <th>PM10</th>\n",
       "      <th>Temp</th>\n",
       "      <th>Humidity</th>\n",
       "      <th>Light</th>\n",
       "      <th>CO</th>\n",
       "      <th>Water Temp</th>\n",
       "      <th>pH</th>\n",
       "    </tr>\n",
       "  </thead>\n",
       "  <tbody>\n",
       "    <tr>\n",
       "      <th>184</th>\n",
       "      <td>185</td>\n",
       "      <td>2019</td>\n",
       "      <td>11</td>\n",
       "      <td>26</td>\n",
       "      <td>13</td>\n",
       "      <td>2</td>\n",
       "      <td>27</td>\n",
       "      <td>4.0</td>\n",
       "      <td>7</td>\n",
       "      <td>7</td>\n",
       "      <td>28</td>\n",
       "      <td>10</td>\n",
       "      <td>34.0</td>\n",
       "      <td>95.0</td>\n",
       "      <td>23.81</td>\n",
       "      <td>6.49000</td>\n",
       "    </tr>\n",
       "    <tr>\n",
       "      <th>185</th>\n",
       "      <td>186</td>\n",
       "      <td>2019</td>\n",
       "      <td>11</td>\n",
       "      <td>26</td>\n",
       "      <td>13</td>\n",
       "      <td>3</td>\n",
       "      <td>15</td>\n",
       "      <td>4.0</td>\n",
       "      <td>7</td>\n",
       "      <td>8</td>\n",
       "      <td>28</td>\n",
       "      <td>10</td>\n",
       "      <td>34.0</td>\n",
       "      <td>95.0</td>\n",
       "      <td>23.81</td>\n",
       "      <td>6.52019</td>\n",
       "    </tr>\n",
       "    <tr>\n",
       "      <th>186</th>\n",
       "      <td>187</td>\n",
       "      <td>2019</td>\n",
       "      <td>11</td>\n",
       "      <td>26</td>\n",
       "      <td>13</td>\n",
       "      <td>4</td>\n",
       "      <td>49</td>\n",
       "      <td>5.0</td>\n",
       "      <td>7</td>\n",
       "      <td>8</td>\n",
       "      <td>27</td>\n",
       "      <td>14</td>\n",
       "      <td>34.0</td>\n",
       "      <td>95.0</td>\n",
       "      <td>23.81</td>\n",
       "      <td>6.55000</td>\n",
       "    </tr>\n",
       "    <tr>\n",
       "      <th>187</th>\n",
       "      <td>188</td>\n",
       "      <td>2019</td>\n",
       "      <td>11</td>\n",
       "      <td>26</td>\n",
       "      <td>13</td>\n",
       "      <td>5</td>\n",
       "      <td>37</td>\n",
       "      <td>7.0</td>\n",
       "      <td>9</td>\n",
       "      <td>10</td>\n",
       "      <td>28</td>\n",
       "      <td>9</td>\n",
       "      <td>34.0</td>\n",
       "      <td>95.0</td>\n",
       "      <td>23.88</td>\n",
       "      <td>6.56000</td>\n",
       "    </tr>\n",
       "    <tr>\n",
       "      <th>188</th>\n",
       "      <td>189</td>\n",
       "      <td>2019</td>\n",
       "      <td>11</td>\n",
       "      <td>26</td>\n",
       "      <td>13</td>\n",
       "      <td>6</td>\n",
       "      <td>30</td>\n",
       "      <td>5.0</td>\n",
       "      <td>8</td>\n",
       "      <td>8</td>\n",
       "      <td>27</td>\n",
       "      <td>12</td>\n",
       "      <td>34.0</td>\n",
       "      <td>95.0</td>\n",
       "      <td>23.88</td>\n",
       "      <td>6.51000</td>\n",
       "    </tr>\n",
       "  </tbody>\n",
       "</table>\n",
       "</div>"
      ],
      "text/plain": [
       "     S.No  Year  Month  Day  Hour  Minute  Second  PM1  PM2.5  PM10  Temp  \\\n",
       "184   185  2019     11   26    13       2      27  4.0      7     7    28   \n",
       "185   186  2019     11   26    13       3      15  4.0      7     8    28   \n",
       "186   187  2019     11   26    13       4      49  5.0      7     8    27   \n",
       "187   188  2019     11   26    13       5      37  7.0      9    10    28   \n",
       "188   189  2019     11   26    13       6      30  5.0      8     8    27   \n",
       "\n",
       "     Humidity  Light    CO  Water Temp       pH  \n",
       "184        10   34.0  95.0       23.81  6.49000  \n",
       "185        10   34.0  95.0       23.81  6.52019  \n",
       "186        14   34.0  95.0       23.81  6.55000  \n",
       "187         9   34.0  95.0       23.88  6.56000  \n",
       "188        12   34.0  95.0       23.88  6.51000  "
      ]
     },
     "execution_count": 38,
     "metadata": {},
     "output_type": "execute_result"
    }
   ],
   "source": [
    "data8 = data7[(data7['pH']>6.2) & (data7['pH']<10)]\n",
    "data8.head()"
   ]
  },
  {
   "cell_type": "code",
   "execution_count": 39,
   "id": "caec3174-b1df-459d-9033-3f08b28890c1",
   "metadata": {},
   "outputs": [
    {
     "data": {
      "image/png": "[encoded data removed]",
      "text/plain": [
       "<Figure size 432x288 with 1 Axes>"
      ]
     },
     "metadata": {
      "needs_background": "light"
     },
     "output_type": "display_data"
    }
   ],
   "source": [
    "plt.title('fish data pH')\n",
    "plt.plot(data8['S.No'], data8['pH']) \n",
    "plt.xlabel('S.No')\n",
    "plt.ylabel('data')\n",
    "plt.legend(['pH'])\n",
    "plt.show()"
   ]
  },
  {
   "cell_type": "markdown",
   "id": "38913451-18e7-46ff-8041-8ecc95ae6361",
   "metadata": {
    "tags": []
   },
   "source": [
    "### Clean PM2.5"
   ]
  },
  {
   "cell_type": "code",
   "execution_count": 40,
   "id": "0472a412-3791-42ab-ac6b-0b3c81e5e870",
   "metadata": {},
   "outputs": [
    {
     "data": {
      "text/plain": [
       "count    5270.000000\n",
       "mean       19.433397\n",
       "std         6.590683\n",
       "min         1.000000\n",
       "25%        15.000000\n",
       "50%        19.000000\n",
       "75%        23.000000\n",
       "max        42.000000\n",
       "Name: PM2.5, dtype: float64"
      ]
     },
     "execution_count": 40,
     "metadata": {},
     "output_type": "execute_result"
    }
   ],
   "source": [
    "data8['PM2.5'].describe()"
   ]
  },
  {
   "cell_type": "code",
   "execution_count": 41,
   "id": "0ed605d2-1ef7-4284-abd7-d6092c57554c",
   "metadata": {},
   "outputs": [
    {
     "data": {
      "text/html": [
       "<div>\n",
       "<style scoped>\n",
       "    .dataframe tbody tr th:only-of-type {\n",
       "        vertical-align: middle;\n",
       "    }\n",
       "\n",
       "    .dataframe tbody tr th {\n",
       "        vertical-align: top;\n",
       "    }\n",
       "\n",
       "    .dataframe thead th {\n",
       "        text-align: right;\n",
       "    }\n",
       "</style>\n",
       "<table border=\"1\" class=\"dataframe\">\n",
       "  <thead>\n",
       "    <tr style=\"text-align: right;\">\n",
       "      <th></th>\n",
       "      <th>S.No</th>\n",
       "      <th>Year</th>\n",
       "      <th>Month</th>\n",
       "      <th>Day</th>\n",
       "      <th>Hour</th>\n",
       "      <th>Minute</th>\n",
       "      <th>Second</th>\n",
       "      <th>PM1</th>\n",
       "      <th>PM2.5</th>\n",
       "      <th>PM10</th>\n",
       "      <th>Temp</th>\n",
       "      <th>Humidity</th>\n",
       "      <th>Light</th>\n",
       "      <th>CO</th>\n",
       "      <th>Water Temp</th>\n",
       "      <th>pH</th>\n",
       "    </tr>\n",
       "  </thead>\n",
       "  <tbody>\n",
       "    <tr>\n",
       "      <th>187</th>\n",
       "      <td>188</td>\n",
       "      <td>2019</td>\n",
       "      <td>11</td>\n",
       "      <td>26</td>\n",
       "      <td>13</td>\n",
       "      <td>5</td>\n",
       "      <td>37</td>\n",
       "      <td>7.0</td>\n",
       "      <td>9</td>\n",
       "      <td>10</td>\n",
       "      <td>28</td>\n",
       "      <td>9</td>\n",
       "      <td>34.0</td>\n",
       "      <td>95.0</td>\n",
       "      <td>23.88</td>\n",
       "      <td>6.56</td>\n",
       "    </tr>\n",
       "    <tr>\n",
       "      <th>188</th>\n",
       "      <td>189</td>\n",
       "      <td>2019</td>\n",
       "      <td>11</td>\n",
       "      <td>26</td>\n",
       "      <td>13</td>\n",
       "      <td>6</td>\n",
       "      <td>30</td>\n",
       "      <td>5.0</td>\n",
       "      <td>8</td>\n",
       "      <td>8</td>\n",
       "      <td>27</td>\n",
       "      <td>12</td>\n",
       "      <td>34.0</td>\n",
       "      <td>95.0</td>\n",
       "      <td>23.88</td>\n",
       "      <td>6.51</td>\n",
       "    </tr>\n",
       "    <tr>\n",
       "      <th>189</th>\n",
       "      <td>190</td>\n",
       "      <td>2019</td>\n",
       "      <td>11</td>\n",
       "      <td>26</td>\n",
       "      <td>13</td>\n",
       "      <td>7</td>\n",
       "      <td>18</td>\n",
       "      <td>4.0</td>\n",
       "      <td>8</td>\n",
       "      <td>9</td>\n",
       "      <td>27</td>\n",
       "      <td>11</td>\n",
       "      <td>34.0</td>\n",
       "      <td>95.0</td>\n",
       "      <td>23.88</td>\n",
       "      <td>6.54</td>\n",
       "    </tr>\n",
       "    <tr>\n",
       "      <th>191</th>\n",
       "      <td>192</td>\n",
       "      <td>2019</td>\n",
       "      <td>11</td>\n",
       "      <td>26</td>\n",
       "      <td>13</td>\n",
       "      <td>8</td>\n",
       "      <td>53</td>\n",
       "      <td>7.0</td>\n",
       "      <td>8</td>\n",
       "      <td>8</td>\n",
       "      <td>27</td>\n",
       "      <td>11</td>\n",
       "      <td>34.0</td>\n",
       "      <td>95.0</td>\n",
       "      <td>23.88</td>\n",
       "      <td>6.53</td>\n",
       "    </tr>\n",
       "    <tr>\n",
       "      <th>192</th>\n",
       "      <td>193</td>\n",
       "      <td>2019</td>\n",
       "      <td>11</td>\n",
       "      <td>26</td>\n",
       "      <td>13</td>\n",
       "      <td>9</td>\n",
       "      <td>40</td>\n",
       "      <td>3.0</td>\n",
       "      <td>8</td>\n",
       "      <td>8</td>\n",
       "      <td>28</td>\n",
       "      <td>12</td>\n",
       "      <td>34.0</td>\n",
       "      <td>95.0</td>\n",
       "      <td>23.81</td>\n",
       "      <td>6.53</td>\n",
       "    </tr>\n",
       "  </tbody>\n",
       "</table>\n",
       "</div>"
      ],
      "text/plain": [
       "     S.No  Year  Month  Day  Hour  Minute  Second  PM1  PM2.5  PM10  Temp  \\\n",
       "187   188  2019     11   26    13       5      37  7.0      9    10    28   \n",
       "188   189  2019     11   26    13       6      30  5.0      8     8    27   \n",
       "189   190  2019     11   26    13       7      18  4.0      8     9    27   \n",
       "191   192  2019     11   26    13       8      53  7.0      8     8    27   \n",
       "192   193  2019     11   26    13       9      40  3.0      8     8    28   \n",
       "\n",
       "     Humidity  Light    CO  Water Temp    pH  \n",
       "187         9   34.0  95.0       23.88  6.56  \n",
       "188        12   34.0  95.0       23.88  6.51  \n",
       "189        11   34.0  95.0       23.88  6.54  \n",
       "191        11   34.0  95.0       23.88  6.53  \n",
       "192        12   34.0  95.0       23.81  6.53  "
      ]
     },
     "execution_count": 41,
     "metadata": {},
     "output_type": "execute_result"
    }
   ],
   "source": [
    "data9 = data8[(data8['PM2.5']>7) & (data8['PM2.5']<40)]\n",
    "data9.head()"
   ]
  },
  {
   "cell_type": "code",
   "execution_count": 42,
   "id": "1b23f11b-4c06-4e77-b293-1e2f2828d408",
   "metadata": {},
   "outputs": [
    {
     "data": {
      "image/png": "[encoded data removed]",
      "text/plain": [
       "<Figure size 432x288 with 1 Axes>"
      ]
     },
     "metadata": {
      "needs_background": "light"
     },
     "output_type": "display_data"
    }
   ],
   "source": [
    "plt.title('fish data PM2.5')\n",
    "plt.plot(data9['S.No'], data9['PM2.5'])\n",
    "plt.xlabel('S.No')\n",
    "plt.ylabel('data')\n",
    "plt.legend(['PM2.5'])\n",
    "plt.show()"
   ]
  },
  {
   "cell_type": "markdown",
   "id": "76e366f9-3590-4aac-9fef-ba3692d5794e",
   "metadata": {},
   "source": [
    "### Clean PM1"
   ]
  },
  {
   "cell_type": "code",
   "execution_count": 43,
   "id": "c95e520a-eb14-4834-ba2e-ac8b6875ce1b",
   "metadata": {},
   "outputs": [
    {
     "data": {
      "text/plain": [
       "count    5047.000000\n",
       "mean       13.042401\n",
       "std         4.353279\n",
       "min         0.000000\n",
       "25%        10.000000\n",
       "50%        13.000000\n",
       "75%        15.000000\n",
       "max        29.000000\n",
       "Name: PM1, dtype: float64"
      ]
     },
     "execution_count": 43,
     "metadata": {},
     "output_type": "execute_result"
    }
   ],
   "source": [
    "data9['PM1'].describe()"
   ]
  },
  {
   "cell_type": "code",
   "execution_count": 44,
   "id": "7fec59c7-f6f8-4820-8e00-a6b6f4b8750e",
   "metadata": {},
   "outputs": [
    {
     "data": {
      "text/html": [
       "<div>\n",
       "<style scoped>\n",
       "    .dataframe tbody tr th:only-of-type {\n",
       "        vertical-align: middle;\n",
       "    }\n",
       "\n",
       "    .dataframe tbody tr th {\n",
       "        vertical-align: top;\n",
       "    }\n",
       "\n",
       "    .dataframe thead th {\n",
       "        text-align: right;\n",
       "    }\n",
       "</style>\n",
       "<table border=\"1\" class=\"dataframe\">\n",
       "  <thead>\n",
       "    <tr style=\"text-align: right;\">\n",
       "      <th></th>\n",
       "      <th>S.No</th>\n",
       "      <th>Year</th>\n",
       "      <th>Month</th>\n",
       "      <th>Day</th>\n",
       "      <th>Hour</th>\n",
       "      <th>Minute</th>\n",
       "      <th>Second</th>\n",
       "      <th>PM1</th>\n",
       "      <th>PM2.5</th>\n",
       "      <th>PM10</th>\n",
       "      <th>Temp</th>\n",
       "      <th>Humidity</th>\n",
       "      <th>Light</th>\n",
       "      <th>CO</th>\n",
       "      <th>Water Temp</th>\n",
       "      <th>pH</th>\n",
       "    </tr>\n",
       "  </thead>\n",
       "  <tbody>\n",
       "    <tr>\n",
       "      <th>187</th>\n",
       "      <td>188</td>\n",
       "      <td>2019</td>\n",
       "      <td>11</td>\n",
       "      <td>26</td>\n",
       "      <td>13</td>\n",
       "      <td>5</td>\n",
       "      <td>37</td>\n",
       "      <td>7.0</td>\n",
       "      <td>9</td>\n",
       "      <td>10</td>\n",
       "      <td>28</td>\n",
       "      <td>9</td>\n",
       "      <td>34.0</td>\n",
       "      <td>95.0</td>\n",
       "      <td>23.88</td>\n",
       "      <td>6.56</td>\n",
       "    </tr>\n",
       "    <tr>\n",
       "      <th>188</th>\n",
       "      <td>189</td>\n",
       "      <td>2019</td>\n",
       "      <td>11</td>\n",
       "      <td>26</td>\n",
       "      <td>13</td>\n",
       "      <td>6</td>\n",
       "      <td>30</td>\n",
       "      <td>5.0</td>\n",
       "      <td>8</td>\n",
       "      <td>8</td>\n",
       "      <td>27</td>\n",
       "      <td>12</td>\n",
       "      <td>34.0</td>\n",
       "      <td>95.0</td>\n",
       "      <td>23.88</td>\n",
       "      <td>6.51</td>\n",
       "    </tr>\n",
       "    <tr>\n",
       "      <th>189</th>\n",
       "      <td>190</td>\n",
       "      <td>2019</td>\n",
       "      <td>11</td>\n",
       "      <td>26</td>\n",
       "      <td>13</td>\n",
       "      <td>7</td>\n",
       "      <td>18</td>\n",
       "      <td>4.0</td>\n",
       "      <td>8</td>\n",
       "      <td>9</td>\n",
       "      <td>27</td>\n",
       "      <td>11</td>\n",
       "      <td>34.0</td>\n",
       "      <td>95.0</td>\n",
       "      <td>23.88</td>\n",
       "      <td>6.54</td>\n",
       "    </tr>\n",
       "    <tr>\n",
       "      <th>191</th>\n",
       "      <td>192</td>\n",
       "      <td>2019</td>\n",
       "      <td>11</td>\n",
       "      <td>26</td>\n",
       "      <td>13</td>\n",
       "      <td>8</td>\n",
       "      <td>53</td>\n",
       "      <td>7.0</td>\n",
       "      <td>8</td>\n",
       "      <td>8</td>\n",
       "      <td>27</td>\n",
       "      <td>11</td>\n",
       "      <td>34.0</td>\n",
       "      <td>95.0</td>\n",
       "      <td>23.88</td>\n",
       "      <td>6.53</td>\n",
       "    </tr>\n",
       "    <tr>\n",
       "      <th>193</th>\n",
       "      <td>194</td>\n",
       "      <td>2019</td>\n",
       "      <td>11</td>\n",
       "      <td>26</td>\n",
       "      <td>13</td>\n",
       "      <td>10</td>\n",
       "      <td>28</td>\n",
       "      <td>7.0</td>\n",
       "      <td>9</td>\n",
       "      <td>11</td>\n",
       "      <td>27</td>\n",
       "      <td>11</td>\n",
       "      <td>34.0</td>\n",
       "      <td>95.0</td>\n",
       "      <td>23.81</td>\n",
       "      <td>6.53</td>\n",
       "    </tr>\n",
       "  </tbody>\n",
       "</table>\n",
       "</div>"
      ],
      "text/plain": [
       "     S.No  Year  Month  Day  Hour  Minute  Second  PM1  PM2.5  PM10  Temp  \\\n",
       "187   188  2019     11   26    13       5      37  7.0      9    10    28   \n",
       "188   189  2019     11   26    13       6      30  5.0      8     8    27   \n",
       "189   190  2019     11   26    13       7      18  4.0      8     9    27   \n",
       "191   192  2019     11   26    13       8      53  7.0      8     8    27   \n",
       "193   194  2019     11   26    13      10      28  7.0      9    11    27   \n",
       "\n",
       "     Humidity  Light    CO  Water Temp    pH  \n",
       "187         9   34.0  95.0       23.88  6.56  \n",
       "188        12   34.0  95.0       23.88  6.51  \n",
       "189        11   34.0  95.0       23.88  6.54  \n",
       "191        11   34.0  95.0       23.88  6.53  \n",
       "193        11   34.0  95.0       23.81  6.53  "
      ]
     },
     "execution_count": 44,
     "metadata": {},
     "output_type": "execute_result"
    }
   ],
   "source": [
    "data_new = data9[(data9['PM1']>3) & (data9['PM1']<25)]\n",
    "data_new.head()"
   ]
  },
  {
   "cell_type": "code",
   "execution_count": 45,
   "id": "1a1a1609-5a1f-4680-a866-d6f0c2661856",
   "metadata": {},
   "outputs": [
    {
     "data": {
      "image/png": "[encoded data removed]",
      "text/plain": [
       "<Figure size 432x288 with 1 Axes>"
      ]
     },
     "metadata": {
      "needs_background": "light"
     },
     "output_type": "display_data"
    }
   ],
   "source": [
    "plt.title('fish data PM2.5')\n",
    "plt.plot(data_new['S.No'], data_new['PM1'])\n",
    "plt.xlabel('S.No')\n",
    "plt.ylabel('data')\n",
    "plt.legend(['PM1'])\n",
    "plt.show()"
   ]
  },
  {
   "cell_type": "markdown",
   "id": "cd7c3fad-4378-461d-b090-dd77ce0a084f",
   "metadata": {},
   "source": [
    "# Compare Visualization"
   ]
  },
  {
   "cell_type": "markdown",
   "id": "ad5bc2d0-dad0-41cc-a106-101fcc6adf49",
   "metadata": {},
   "source": [
    "## PM 1"
   ]
  },
  {
   "cell_type": "code",
   "execution_count": 46,
   "id": "46c05661-7130-48be-a067-5198ac0ab801",
   "metadata": {},
   "outputs": [
    {
     "data": {
      "image/png": "[encoded data removed]",
      "text/plain": [
       "<Figure size 432x288 with 2 Axes>"
      ]
     },
     "metadata": {
      "needs_background": "light"
     },
     "output_type": "display_data"
    }
   ],
   "source": [
    "plt.subplot(2, 1, 1)\n",
    "plt.title('Raw PM1')\n",
    "plt.plot(df['S.No'], df['PM1'])\n",
    "plt.xlabel('S.No')\n",
    "plt.ylabel('data')\n",
    "plt.legend(['PM1'])\n",
    "\n",
    "plt.subplot(2, 1, 2)\n",
    "plt.title('Clean PM1')\n",
    "plt.plot(data_new['S.No'], data_new['PM1'], color = 'orange')\n",
    "plt.xlabel('S.No')\n",
    "plt.ylabel('data')\n",
    "plt.legend(['PM1'])\n",
    "\n",
    "plt.subplots_adjust(left=0.1,\n",
    "                    bottom=-0.5, \n",
    "                    right=0.9, \n",
    "                    top=0.9, \n",
    "                    wspace=0.4, \n",
    "                    hspace=0.4)\n",
    "\n",
    "plt.show()"
   ]
  },
  {
   "cell_type": "markdown",
   "id": "ed735148-b5c1-4d4e-85e6-6bef6a12bca9",
   "metadata": {},
   "source": [
    "## PM2.5"
   ]
  },
  {
   "cell_type": "code",
   "execution_count": 47,
   "id": "82efd9fc-e0cd-4c83-9678-188dd03da618",
   "metadata": {},
   "outputs": [
    {
     "data": {
      "image/png": "[encoded data removed]",
      "text/plain": [
       "<Figure size 432x288 with 2 Axes>"
      ]
     },
     "metadata": {
      "needs_background": "light"
     },
     "output_type": "display_data"
    }
   ],
   "source": [
    "plt.subplot(2, 1, 1)\n",
    "plt.title('Raw PM2.5')\n",
    "plt.plot(df['S.No'], df['PM2.5'])\n",
    "plt.xlabel('S.No')\n",
    "plt.ylabel('data')\n",
    "plt.legend(['PM2.5'])\n",
    "\n",
    "plt.subplot(2, 1, 2)\n",
    "plt.title('Clean PM2.5')\n",
    "plt.plot(data9['S.No'], data9['PM2.5'], color = 'orange')\n",
    "plt.xlabel('S.No')\n",
    "plt.ylabel('data')\n",
    "plt.legend(['PM2.5'])\n",
    "\n",
    "plt.subplots_adjust(left=0.1,\n",
    "                    bottom=-0.5, \n",
    "                    right=0.9, \n",
    "                    top=0.9, \n",
    "                    wspace=0.4, \n",
    "                    hspace=0.4)\n",
    "\n",
    "plt.show()"
   ]
  },
  {
   "cell_type": "markdown",
   "id": "041362bb-595b-4cee-a97d-025beac12bc4",
   "metadata": {},
   "source": [
    "## PM10"
   ]
  },
  {
   "cell_type": "code",
   "execution_count": 48,
   "id": "3a40de27-d6cd-4eb9-ab8d-abcc68cee5f0",
   "metadata": {},
   "outputs": [
    {
     "data": {
      "image/png": "[encoded data removed]",
      "text/plain": [
       "<Figure size 432x288 with 2 Axes>"
      ]
     },
     "metadata": {
      "needs_background": "light"
     },
     "output_type": "display_data"
    }
   ],
   "source": [
    "plt.subplot(2, 1, 1)\n",
    "plt.title('raw PM10')\n",
    "plt.plot(df['S.No'], df['PM10']) \n",
    "plt.xlabel('S.No')\n",
    "plt.ylabel('data')\n",
    "plt.legend(['PM10'])\n",
    "\n",
    "plt.subplot(2, 1, 2)\n",
    "plt.title('Clean PM10')\n",
    "plt.plot(data2['S.No'], data2['PM10'], color ='orange') \n",
    "plt.xlabel('S.No')\n",
    "plt.ylabel('data')\n",
    "plt.legend(['PM10'])\n",
    "\n",
    "plt.subplots_adjust(left=0.1,\n",
    "                    bottom=-0.5, \n",
    "                    right=0.9, \n",
    "                    top=0.9, \n",
    "                    wspace=0.4, \n",
    "                    hspace=0.4)\n",
    "\n",
    "plt.show()"
   ]
  },
  {
   "cell_type": "markdown",
   "id": "c1c4b5e1-9faf-4b05-880d-e148eafc05d1",
   "metadata": {},
   "source": [
    "## Temp"
   ]
  },
  {
   "cell_type": "code",
   "execution_count": 49,
   "id": "10cbd3d0-9477-4fac-bd6b-45319a94223c",
   "metadata": {},
   "outputs": [
    {
     "data": {
      "image/png": "[encoded data removed]",
      "text/plain": [
       "<Figure size 432x288 with 2 Axes>"
      ]
     },
     "metadata": {
      "needs_background": "light"
     },
     "output_type": "display_data"
    }
   ],
   "source": [
    "plt.subplot(2, 1, 1)\n",
    "plt.title('raw Temp')\n",
    "plt.plot(df['S.No'], df['Temp']) \n",
    "plt.xlabel('S.No')\n",
    "plt.ylabel('data')\n",
    "plt.legend(['Temp'])\n",
    "\n",
    "plt.subplot(2, 1, 2)\n",
    "plt.title('CleanTemp')\n",
    "plt.plot(data3['S.No'], data3['Temp'], color='orange') \n",
    "plt.xlabel('S.No')\n",
    "plt.ylabel('data')\n",
    "plt.legend(['Temp'])\n",
    "\n",
    "plt.subplots_adjust(left=0.1,\n",
    "                    bottom=-0.5, \n",
    "                    right=0.9, \n",
    "                    top=0.9, \n",
    "                    wspace=0.4, \n",
    "                    hspace=0.4)\n",
    "\n",
    "plt.show()"
   ]
  },
  {
   "cell_type": "markdown",
   "id": "fe035e77-5d6f-4e14-8f8c-b82264acd295",
   "metadata": {},
   "source": [
    "## Water Temp"
   ]
  },
  {
   "cell_type": "code",
   "execution_count": 50,
   "id": "833c4049-664f-4613-b68a-b4527f59b41c",
   "metadata": {},
   "outputs": [
    {
     "data": {
      "image/png": "[encoded data removed]",
      "text/plain": [
       "<Figure size 432x288 with 2 Axes>"
      ]
     },
     "metadata": {
      "needs_background": "light"
     },
     "output_type": "display_data"
    }
   ],
   "source": [
    "plt.subplot(2, 1, 1)\n",
    "plt.title('raw WaterTemp')\n",
    "plt.plot(df['S.No'], df['Water Temp'])\n",
    "plt.xlabel('S.No')\n",
    "plt.ylabel('data')\n",
    "plt.legend( ['Water Temp'])\n",
    "\n",
    "plt.subplot(2, 1, 2)\n",
    "plt.title('Clean WaterTemp')\n",
    "plt.plot(data4['S.No'], data4['Water Temp'], color='orange')\n",
    "plt.xlabel('S.No')\n",
    "plt.ylabel('data')\n",
    "plt.legend( ['Water Temp'])\n",
    "\n",
    "plt.subplots_adjust(left=0.1,\n",
    "                    bottom=-0.5, \n",
    "                    right=0.9, \n",
    "                    top=0.9, \n",
    "                    wspace=0.4, \n",
    "                    hspace=0.4)\n",
    "\n",
    "plt.show()"
   ]
  },
  {
   "cell_type": "markdown",
   "id": "84a7a4bf-6a8b-4e43-af64-3872003b69f1",
   "metadata": {},
   "source": [
    "## Humidity"
   ]
  },
  {
   "cell_type": "code",
   "execution_count": 51,
   "id": "542bea7c-7439-4295-a2ef-4a9bcc60441c",
   "metadata": {},
   "outputs": [
    {
     "data": {
      "image/png": "[encoded data removed]",
      "text/plain": [
       "<Figure size 432x288 with 2 Axes>"
      ]
     },
     "metadata": {
      "needs_background": "light"
     },
     "output_type": "display_data"
    }
   ],
   "source": [
    "plt.subplot(2, 1, 1)\n",
    "plt.title('raw Humidity')\n",
    "plt.plot(df['S.No'], df['Humidity']) \n",
    "plt.xlabel('S.No')\n",
    "plt.ylabel('data')\n",
    "plt.legend( ['Humidity'])\n",
    "\n",
    "plt.subplot(2, 1, 2)\n",
    "plt.title('Clean Humidity')\n",
    "plt.plot(data5['S.No'], data5['Humidity'], color='orange') \n",
    "plt.xlabel('S.No')\n",
    "plt.ylabel('data')\n",
    "plt.legend( ['Humidity'])\n",
    "\n",
    "plt.subplots_adjust(left=0.1,\n",
    "                    bottom=-0.5, \n",
    "                    right=0.9, \n",
    "                    top=0.9, \n",
    "                    wspace=0.4, \n",
    "                    hspace=0.4)\n",
    "\n",
    "plt.show()"
   ]
  },
  {
   "cell_type": "markdown",
   "id": "d8545ca5-3767-4724-a96f-ae168d9bfa92",
   "metadata": {},
   "source": [
    "## Light"
   ]
  },
  {
   "cell_type": "code",
   "execution_count": 52,
   "id": "a5e3c627-4448-42a0-9d48-d9cd195f2234",
   "metadata": {},
   "outputs": [
    {
     "data": {
      "image/png": "[encoded data removed]",
      "text/plain": [
       "<Figure size 432x288 with 2 Axes>"
      ]
     },
     "metadata": {
      "needs_background": "light"
     },
     "output_type": "display_data"
    }
   ],
   "source": [
    "plt.subplot(2, 1, 1)\n",
    "plt.title('raw Light')\n",
    "plt.plot(df['S.No'], df['Light']) \n",
    "plt.xlabel('S.No')\n",
    "plt.ylabel('data')\n",
    "plt.legend(['Light'])\n",
    "\n",
    "plt.subplot(2, 1, 2)\n",
    "plt.title('Clean Light')\n",
    "plt.plot(data6['S.No'], data6['Light'], color='orange') \n",
    "plt.xlabel('S.No')\n",
    "plt.ylabel('data')\n",
    "plt.legend(['Light'])\n",
    "\n",
    "plt.subplots_adjust(left=0.1,\n",
    "                    bottom=-0.5, \n",
    "                    right=0.9, \n",
    "                    top=0.9, \n",
    "                    wspace=0.4, \n",
    "                    hspace=0.4)\n",
    "\n",
    "plt.show()"
   ]
  },
  {
   "cell_type": "markdown",
   "id": "68ea77c0-17d0-482c-8848-52c6789aefd9",
   "metadata": {},
   "source": [
    "## CO"
   ]
  },
  {
   "cell_type": "code",
   "execution_count": 53,
   "id": "fd1c163d-2bd2-403a-8432-eb8c46c11edb",
   "metadata": {},
   "outputs": [
    {
     "data": {
      "image/png": "[encoded data removed]",
      "text/plain": [
       "<Figure size 432x288 with 2 Axes>"
      ]
     },
     "metadata": {
      "needs_background": "light"
     },
     "output_type": "display_data"
    }
   ],
   "source": [
    "plt.subplot(2, 1, 1)\n",
    "plt.title('raw CO')\n",
    "plt.plot(df['S.No'], df['CO']) \n",
    "plt.xlabel('S.No')\n",
    "plt.ylabel('data')\n",
    "plt.legend(['CO'])\n",
    "\n",
    "plt.subplot(2, 1, 2)\n",
    "plt.title('Clean CO')\n",
    "plt.plot(data7['S.No'], data7['CO'], color='orange') \n",
    "plt.xlabel('S.No')\n",
    "plt.ylabel('data')\n",
    "plt.legend(['CO'])\n",
    "\n",
    "plt.subplots_adjust(left=0.1,\n",
    "                    bottom=-0.5, \n",
    "                    right=0.9, \n",
    "                    top=0.9, \n",
    "                    wspace=0.4, \n",
    "                    hspace=0.4)\n",
    "\n",
    "plt.show()"
   ]
  },
  {
   "cell_type": "markdown",
   "id": "41123d96-4978-4476-97d9-7827c9365763",
   "metadata": {},
   "source": [
    "## pH"
   ]
  },
  {
   "cell_type": "code",
   "execution_count": 54,
   "id": "2cca1ac4-b1ec-425d-83d7-84ec273a3d22",
   "metadata": {},
   "outputs": [
    {
     "data": {
      "image/png": "[encoded data removed]",
      "text/plain": [
       "<Figure size 432x288 with 2 Axes>"
      ]
     },
     "metadata": {
      "needs_background": "light"
     },
     "output_type": "display_data"
    }
   ],
   "source": [
    "plt.subplot(2, 1, 1)\n",
    "plt.title('raw pH')\n",
    "plt.plot(df['S.No'], df['pH']) \n",
    "plt.xlabel('S.No')\n",
    "plt.ylabel('data')\n",
    "plt.legend(['pH'])\n",
    "\n",
    "plt.subplot(2, 1, 2)\n",
    "plt.title('Clean PM2.5')\n",
    "plt.plot(data9['S.No'], data9['pH'], color='orange')\n",
    "plt.xlabel('S.No')\n",
    "plt.ylabel('data')\n",
    "plt.legend(['pH'])\n",
    "\n",
    "plt.subplots_adjust(left=0.1,\n",
    "                    bottom=-0.5, \n",
    "                    right=0.9, \n",
    "                    top=0.9, \n",
    "                    wspace=0.4, \n",
    "                    hspace=0.4)\n",
    "\n",
    "plt.show()"
   ]
  },
  {
   "cell_type": "markdown",
   "id": "b5cce454-845f-45b0-8a26-87fa28b5d82f",
   "metadata": {},
   "source": [
    "## Correlation Matrix"
   ]
  },
  {
   "cell_type": "code",
   "execution_count": 55,
   "id": "c3bc9c4f-c15a-455e-a4c6-62ee3bfc23cf",
   "metadata": {},
   "outputs": [
    {
     "data": {
      "image/png": "[encoded data removed]",
      "text/plain": [
       "<Figure size 1080x1080 with 2 Axes>"
      ]
     },
     "metadata": {
      "needs_background": "light"
     },
     "output_type": "display_data"
    }
   ],
   "source": [
    "corr = data_new.corr()\n",
    "plt.figure(figsize=(15,15))\n",
    "sns.heatmap(corr, annot=True)\n",
    "plt.show()"
   ]
  },
  {
   "cell_type": "markdown",
   "id": "1582f620-b6ba-44be-b121-50081f81a56d",
   "metadata": {},
   "source": [
    "# New Data"
   ]
  },
  {
   "cell_type": "code",
   "execution_count": 56,
   "id": "e4c82bf8-ecbf-465d-b134-416644a3fa92",
   "metadata": {},
   "outputs": [
    {
     "data": {
      "text/html": [
       "<div>\n",
       "<style scoped>\n",
       "    .dataframe tbody tr th:only-of-type {\n",
       "        vertical-align: middle;\n",
       "    }\n",
       "\n",
       "    .dataframe tbody tr th {\n",
       "        vertical-align: top;\n",
       "    }\n",
       "\n",
       "    .dataframe thead th {\n",
       "        text-align: right;\n",
       "    }\n",
       "</style>\n",
       "<table border=\"1\" class=\"dataframe\">\n",
       "  <thead>\n",
       "    <tr style=\"text-align: right;\">\n",
       "      <th></th>\n",
       "      <th>S.No</th>\n",
       "      <th>Year</th>\n",
       "      <th>Month</th>\n",
       "      <th>Day</th>\n",
       "      <th>Hour</th>\n",
       "      <th>Minute</th>\n",
       "      <th>Second</th>\n",
       "      <th>PM1</th>\n",
       "      <th>PM2.5</th>\n",
       "      <th>PM10</th>\n",
       "      <th>Temp</th>\n",
       "      <th>Humidity</th>\n",
       "      <th>Light</th>\n",
       "      <th>CO</th>\n",
       "      <th>Water Temp</th>\n",
       "      <th>pH</th>\n",
       "    </tr>\n",
       "  </thead>\n",
       "  <tbody>\n",
       "    <tr>\n",
       "      <th>187</th>\n",
       "      <td>188</td>\n",
       "      <td>2019</td>\n",
       "      <td>11</td>\n",
       "      <td>26</td>\n",
       "      <td>13</td>\n",
       "      <td>5</td>\n",
       "      <td>37</td>\n",
       "      <td>7.0</td>\n",
       "      <td>9</td>\n",
       "      <td>10</td>\n",
       "      <td>28</td>\n",
       "      <td>9</td>\n",
       "      <td>34.0</td>\n",
       "      <td>95.0</td>\n",
       "      <td>23.88</td>\n",
       "      <td>6.560000</td>\n",
       "    </tr>\n",
       "    <tr>\n",
       "      <th>188</th>\n",
       "      <td>189</td>\n",
       "      <td>2019</td>\n",
       "      <td>11</td>\n",
       "      <td>26</td>\n",
       "      <td>13</td>\n",
       "      <td>6</td>\n",
       "      <td>30</td>\n",
       "      <td>5.0</td>\n",
       "      <td>8</td>\n",
       "      <td>8</td>\n",
       "      <td>27</td>\n",
       "      <td>12</td>\n",
       "      <td>34.0</td>\n",
       "      <td>95.0</td>\n",
       "      <td>23.88</td>\n",
       "      <td>6.510000</td>\n",
       "    </tr>\n",
       "    <tr>\n",
       "      <th>189</th>\n",
       "      <td>190</td>\n",
       "      <td>2019</td>\n",
       "      <td>11</td>\n",
       "      <td>26</td>\n",
       "      <td>13</td>\n",
       "      <td>7</td>\n",
       "      <td>18</td>\n",
       "      <td>4.0</td>\n",
       "      <td>8</td>\n",
       "      <td>9</td>\n",
       "      <td>27</td>\n",
       "      <td>11</td>\n",
       "      <td>34.0</td>\n",
       "      <td>95.0</td>\n",
       "      <td>23.88</td>\n",
       "      <td>6.540000</td>\n",
       "    </tr>\n",
       "    <tr>\n",
       "      <th>191</th>\n",
       "      <td>192</td>\n",
       "      <td>2019</td>\n",
       "      <td>11</td>\n",
       "      <td>26</td>\n",
       "      <td>13</td>\n",
       "      <td>8</td>\n",
       "      <td>53</td>\n",
       "      <td>7.0</td>\n",
       "      <td>8</td>\n",
       "      <td>8</td>\n",
       "      <td>27</td>\n",
       "      <td>11</td>\n",
       "      <td>34.0</td>\n",
       "      <td>95.0</td>\n",
       "      <td>23.88</td>\n",
       "      <td>6.530000</td>\n",
       "    </tr>\n",
       "    <tr>\n",
       "      <th>193</th>\n",
       "      <td>194</td>\n",
       "      <td>2019</td>\n",
       "      <td>11</td>\n",
       "      <td>26</td>\n",
       "      <td>13</td>\n",
       "      <td>10</td>\n",
       "      <td>28</td>\n",
       "      <td>7.0</td>\n",
       "      <td>9</td>\n",
       "      <td>11</td>\n",
       "      <td>27</td>\n",
       "      <td>11</td>\n",
       "      <td>34.0</td>\n",
       "      <td>95.0</td>\n",
       "      <td>23.81</td>\n",
       "      <td>6.530000</td>\n",
       "    </tr>\n",
       "    <tr>\n",
       "      <th>195</th>\n",
       "      <td>196</td>\n",
       "      <td>2019</td>\n",
       "      <td>11</td>\n",
       "      <td>26</td>\n",
       "      <td>13</td>\n",
       "      <td>12</td>\n",
       "      <td>52</td>\n",
       "      <td>4.0</td>\n",
       "      <td>8</td>\n",
       "      <td>8</td>\n",
       "      <td>27</td>\n",
       "      <td>11</td>\n",
       "      <td>34.0</td>\n",
       "      <td>95.0</td>\n",
       "      <td>23.81</td>\n",
       "      <td>6.570000</td>\n",
       "    </tr>\n",
       "    <tr>\n",
       "      <th>199</th>\n",
       "      <td>200</td>\n",
       "      <td>2019</td>\n",
       "      <td>11</td>\n",
       "      <td>26</td>\n",
       "      <td>13</td>\n",
       "      <td>16</td>\n",
       "      <td>1</td>\n",
       "      <td>4.0</td>\n",
       "      <td>8</td>\n",
       "      <td>10</td>\n",
       "      <td>28</td>\n",
       "      <td>11</td>\n",
       "      <td>34.0</td>\n",
       "      <td>95.0</td>\n",
       "      <td>23.81</td>\n",
       "      <td>6.510000</td>\n",
       "    </tr>\n",
       "    <tr>\n",
       "      <th>201</th>\n",
       "      <td>202</td>\n",
       "      <td>2019</td>\n",
       "      <td>11</td>\n",
       "      <td>26</td>\n",
       "      <td>13</td>\n",
       "      <td>17</td>\n",
       "      <td>36</td>\n",
       "      <td>5.0</td>\n",
       "      <td>8</td>\n",
       "      <td>9</td>\n",
       "      <td>26</td>\n",
       "      <td>12</td>\n",
       "      <td>34.0</td>\n",
       "      <td>95.0</td>\n",
       "      <td>23.81</td>\n",
       "      <td>6.510000</td>\n",
       "    </tr>\n",
       "    <tr>\n",
       "      <th>205</th>\n",
       "      <td>206</td>\n",
       "      <td>2019</td>\n",
       "      <td>11</td>\n",
       "      <td>26</td>\n",
       "      <td>13</td>\n",
       "      <td>20</td>\n",
       "      <td>46</td>\n",
       "      <td>4.0</td>\n",
       "      <td>8</td>\n",
       "      <td>8</td>\n",
       "      <td>29</td>\n",
       "      <td>12</td>\n",
       "      <td>34.0</td>\n",
       "      <td>95.0</td>\n",
       "      <td>23.81</td>\n",
       "      <td>6.502019</td>\n",
       "    </tr>\n",
       "    <tr>\n",
       "      <th>209</th>\n",
       "      <td>210</td>\n",
       "      <td>2019</td>\n",
       "      <td>11</td>\n",
       "      <td>26</td>\n",
       "      <td>13</td>\n",
       "      <td>24</td>\n",
       "      <td>43</td>\n",
       "      <td>7.0</td>\n",
       "      <td>10</td>\n",
       "      <td>11</td>\n",
       "      <td>27</td>\n",
       "      <td>12</td>\n",
       "      <td>34.0</td>\n",
       "      <td>95.0</td>\n",
       "      <td>23.81</td>\n",
       "      <td>6.530000</td>\n",
       "    </tr>\n",
       "  </tbody>\n",
       "</table>\n",
       "</div>"
      ],
      "text/plain": [
       "     S.No  Year  Month  Day  Hour  Minute  Second  PM1  PM2.5  PM10  Temp  \\\n",
       "187   188  2019     11   26    13       5      37  7.0      9    10    28   \n",
       "188   189  2019     11   26    13       6      30  5.0      8     8    27   \n",
       "189   190  2019     11   26    13       7      18  4.0      8     9    27   \n",
       "191   192  2019     11   26    13       8      53  7.0      8     8    27   \n",
       "193   194  2019     11   26    13      10      28  7.0      9    11    27   \n",
       "195   196  2019     11   26    13      12      52  4.0      8     8    27   \n",
       "199   200  2019     11   26    13      16       1  4.0      8    10    28   \n",
       "201   202  2019     11   26    13      17      36  5.0      8     9    26   \n",
       "205   206  2019     11   26    13      20      46  4.0      8     8    29   \n",
       "209   210  2019     11   26    13      24      43  7.0     10    11    27   \n",
       "\n",
       "     Humidity  Light    CO  Water Temp        pH  \n",
       "187         9   34.0  95.0       23.88  6.560000  \n",
       "188        12   34.0  95.0       23.88  6.510000  \n",
       "189        11   34.0  95.0       23.88  6.540000  \n",
       "191        11   34.0  95.0       23.88  6.530000  \n",
       "193        11   34.0  95.0       23.81  6.530000  \n",
       "195        11   34.0  95.0       23.81  6.570000  \n",
       "199        11   34.0  95.0       23.81  6.510000  \n",
       "201        12   34.0  95.0       23.81  6.510000  \n",
       "205        12   34.0  95.0       23.81  6.502019  \n",
       "209        12   34.0  95.0       23.81  6.530000  "
      ]
     },
     "execution_count": 56,
     "metadata": {},
     "output_type": "execute_result"
    }
   ],
   "source": [
    "data_new.head(10)"
   ]
  },
  {
   "cell_type": "code",
   "execution_count": 58,
   "id": "eab690b5-0b95-4256-a034-be53acaf401b",
   "metadata": {
    "tags": []
   },
   "outputs": [
    {
     "data": {
      "text/html": [
       "<div>\n",
       "<style scoped>\n",
       "    .dataframe tbody tr th:only-of-type {\n",
       "        vertical-align: middle;\n",
       "    }\n",
       "\n",
       "    .dataframe tbody tr th {\n",
       "        vertical-align: top;\n",
       "    }\n",
       "\n",
       "    .dataframe thead th {\n",
       "        text-align: right;\n",
       "    }\n",
       "</style>\n",
       "<table border=\"1\" class=\"dataframe\">\n",
       "  <thead>\n",
       "    <tr style=\"text-align: right;\">\n",
       "      <th></th>\n",
       "      <th>S.No</th>\n",
       "      <th>Year</th>\n",
       "      <th>Month</th>\n",
       "      <th>Day</th>\n",
       "      <th>Hour</th>\n",
       "      <th>Minute</th>\n",
       "      <th>Second</th>\n",
       "      <th>PM1</th>\n",
       "      <th>PM2.5</th>\n",
       "      <th>PM10</th>\n",
       "      <th>Temp</th>\n",
       "      <th>Humidity</th>\n",
       "      <th>Light</th>\n",
       "      <th>CO</th>\n",
       "      <th>Water Temp</th>\n",
       "      <th>pH</th>\n",
       "    </tr>\n",
       "  </thead>\n",
       "  <tbody>\n",
       "    <tr>\n",
       "      <th>count</th>\n",
       "      <td>4882.000000</td>\n",
       "      <td>4882.0</td>\n",
       "      <td>4882.000000</td>\n",
       "      <td>4882.000000</td>\n",
       "      <td>4882.000000</td>\n",
       "      <td>4882.000000</td>\n",
       "      <td>4882.000000</td>\n",
       "      <td>4882.000000</td>\n",
       "      <td>4882.000000</td>\n",
       "      <td>4882.000000</td>\n",
       "      <td>4882.000000</td>\n",
       "      <td>4882.000000</td>\n",
       "      <td>4882.000000</td>\n",
       "      <td>4882.000000</td>\n",
       "      <td>4882.000000</td>\n",
       "      <td>4882.000000</td>\n",
       "    </tr>\n",
       "    <tr>\n",
       "      <th>mean</th>\n",
       "      <td>18052.469275</td>\n",
       "      <td>2019.0</td>\n",
       "      <td>11.978902</td>\n",
       "      <td>7.183941</td>\n",
       "      <td>12.048546</td>\n",
       "      <td>29.627612</td>\n",
       "      <td>29.893281</td>\n",
       "      <td>13.194592</td>\n",
       "      <td>19.843916</td>\n",
       "      <td>23.682302</td>\n",
       "      <td>45.021303</td>\n",
       "      <td>5.897993</td>\n",
       "      <td>34.843302</td>\n",
       "      <td>94.995903</td>\n",
       "      <td>25.899271</td>\n",
       "      <td>6.390118</td>\n",
       "    </tr>\n",
       "    <tr>\n",
       "      <th>std</th>\n",
       "      <td>3757.765826</td>\n",
       "      <td>0.0</td>\n",
       "      <td>0.143726</td>\n",
       "      <td>3.546247</td>\n",
       "      <td>7.631622</td>\n",
       "      <td>17.145144</td>\n",
       "      <td>17.246287</td>\n",
       "      <td>3.756334</td>\n",
       "      <td>5.594489</td>\n",
       "      <td>7.763117</td>\n",
       "      <td>2.849060</td>\n",
       "      <td>2.991869</td>\n",
       "      <td>1.256096</td>\n",
       "      <td>0.179871</td>\n",
       "      <td>1.341253</td>\n",
       "      <td>0.049753</td>\n",
       "    </tr>\n",
       "    <tr>\n",
       "      <th>min</th>\n",
       "      <td>188.000000</td>\n",
       "      <td>2019.0</td>\n",
       "      <td>11.000000</td>\n",
       "      <td>1.000000</td>\n",
       "      <td>0.000000</td>\n",
       "      <td>0.000000</td>\n",
       "      <td>0.000000</td>\n",
       "      <td>4.000000</td>\n",
       "      <td>8.000000</td>\n",
       "      <td>8.000000</td>\n",
       "      <td>26.000000</td>\n",
       "      <td>1.000000</td>\n",
       "      <td>32.000000</td>\n",
       "      <td>85.000000</td>\n",
       "      <td>23.310000</td>\n",
       "      <td>6.201900</td>\n",
       "    </tr>\n",
       "    <tr>\n",
       "      <th>25%</th>\n",
       "      <td>15590.250000</td>\n",
       "      <td>2019.0</td>\n",
       "      <td>12.000000</td>\n",
       "      <td>5.000000</td>\n",
       "      <td>4.000000</td>\n",
       "      <td>15.000000</td>\n",
       "      <td>15.000000</td>\n",
       "      <td>11.000000</td>\n",
       "      <td>16.000000</td>\n",
       "      <td>18.000000</td>\n",
       "      <td>44.000000</td>\n",
       "      <td>3.000000</td>\n",
       "      <td>34.000000</td>\n",
       "      <td>95.000000</td>\n",
       "      <td>24.750000</td>\n",
       "      <td>6.360000</td>\n",
       "    </tr>\n",
       "    <tr>\n",
       "      <th>50%</th>\n",
       "      <td>18559.500000</td>\n",
       "      <td>2019.0</td>\n",
       "      <td>12.000000</td>\n",
       "      <td>7.000000</td>\n",
       "      <td>13.000000</td>\n",
       "      <td>30.000000</td>\n",
       "      <td>30.000000</td>\n",
       "      <td>13.000000</td>\n",
       "      <td>19.000000</td>\n",
       "      <td>22.000000</td>\n",
       "      <td>45.000000</td>\n",
       "      <td>6.000000</td>\n",
       "      <td>35.000000</td>\n",
       "      <td>95.000000</td>\n",
       "      <td>26.380000</td>\n",
       "      <td>6.400000</td>\n",
       "    </tr>\n",
       "    <tr>\n",
       "      <th>75%</th>\n",
       "      <td>20769.250000</td>\n",
       "      <td>2019.0</td>\n",
       "      <td>12.000000</td>\n",
       "      <td>8.000000</td>\n",
       "      <td>19.000000</td>\n",
       "      <td>44.000000</td>\n",
       "      <td>45.000000</td>\n",
       "      <td>15.000000</td>\n",
       "      <td>23.000000</td>\n",
       "      <td>28.000000</td>\n",
       "      <td>46.000000</td>\n",
       "      <td>8.000000</td>\n",
       "      <td>36.000000</td>\n",
       "      <td>95.000000</td>\n",
       "      <td>26.940000</td>\n",
       "      <td>6.420000</td>\n",
       "    </tr>\n",
       "    <tr>\n",
       "      <th>max</th>\n",
       "      <td>23536.000000</td>\n",
       "      <td>2019.0</td>\n",
       "      <td>12.000000</td>\n",
       "      <td>30.000000</td>\n",
       "      <td>23.000000</td>\n",
       "      <td>59.000000</td>\n",
       "      <td>59.000000</td>\n",
       "      <td>24.000000</td>\n",
       "      <td>39.000000</td>\n",
       "      <td>56.000000</td>\n",
       "      <td>51.000000</td>\n",
       "      <td>15.000000</td>\n",
       "      <td>36.000000</td>\n",
       "      <td>95.000000</td>\n",
       "      <td>27.940000</td>\n",
       "      <td>6.570000</td>\n",
       "    </tr>\n",
       "  </tbody>\n",
       "</table>\n",
       "</div>"
      ],
      "text/plain": [
       "               S.No    Year        Month          Day         Hour  \\\n",
       "count   4882.000000  4882.0  4882.000000  4882.000000  4882.000000   \n",
       "mean   18052.469275  2019.0    11.978902     7.183941    12.048546   \n",
       "std     3757.765826     0.0     0.143726     3.546247     7.631622   \n",
       "min      188.000000  2019.0    11.000000     1.000000     0.000000   \n",
       "25%    15590.250000  2019.0    12.000000     5.000000     4.000000   \n",
       "50%    18559.500000  2019.0    12.000000     7.000000    13.000000   \n",
       "75%    20769.250000  2019.0    12.000000     8.000000    19.000000   \n",
       "max    23536.000000  2019.0    12.000000    30.000000    23.000000   \n",
       "\n",
       "            Minute       Second          PM1        PM2.5         PM10  \\\n",
       "count  4882.000000  4882.000000  4882.000000  4882.000000  4882.000000   \n",
       "mean     29.627612    29.893281    13.194592    19.843916    23.682302   \n",
       "std      17.145144    17.246287     3.756334     5.594489     7.763117   \n",
       "min       0.000000     0.000000     4.000000     8.000000     8.000000   \n",
       "25%      15.000000    15.000000    11.000000    16.000000    18.000000   \n",
       "50%      30.000000    30.000000    13.000000    19.000000    22.000000   \n",
       "75%      44.000000    45.000000    15.000000    23.000000    28.000000   \n",
       "max      59.000000    59.000000    24.000000    39.000000    56.000000   \n",
       "\n",
       "              Temp     Humidity        Light           CO   Water Temp  \\\n",
       "count  4882.000000  4882.000000  4882.000000  4882.000000  4882.000000   \n",
       "mean     45.021303     5.897993    34.843302    94.995903    25.899271   \n",
       "std       2.849060     2.991869     1.256096     0.179871     1.341253   \n",
       "min      26.000000     1.000000    32.000000    85.000000    23.310000   \n",
       "25%      44.000000     3.000000    34.000000    95.000000    24.750000   \n",
       "50%      45.000000     6.000000    35.000000    95.000000    26.380000   \n",
       "75%      46.000000     8.000000    36.000000    95.000000    26.940000   \n",
       "max      51.000000    15.000000    36.000000    95.000000    27.940000   \n",
       "\n",
       "                pH  \n",
       "count  4882.000000  \n",
       "mean      6.390118  \n",
       "std       0.049753  \n",
       "min       6.201900  \n",
       "25%       6.360000  \n",
       "50%       6.400000  \n",
       "75%       6.420000  \n",
       "max       6.570000  "
      ]
     },
     "execution_count": 58,
     "metadata": {},
     "output_type": "execute_result"
    }
   ],
   "source": [
    "data_new.describe()"
   ]
  },
  {
   "cell_type": "code",
   "execution_count": 59,
   "id": "1f9d811e-e6c3-4a41-9fec-8efc29452901",
   "metadata": {},
   "outputs": [
    {
     "data": {
      "text/html": [
       "<div>\n",
       "<style scoped>\n",
       "    .dataframe tbody tr th:only-of-type {\n",
       "        vertical-align: middle;\n",
       "    }\n",
       "\n",
       "    .dataframe tbody tr th {\n",
       "        vertical-align: top;\n",
       "    }\n",
       "\n",
       "    .dataframe thead th {\n",
       "        text-align: right;\n",
       "    }\n",
       "</style>\n",
       "<table border=\"1\" class=\"dataframe\">\n",
       "  <thead>\n",
       "    <tr style=\"text-align: right;\">\n",
       "      <th></th>\n",
       "      <th>S.No</th>\n",
       "      <th>Year</th>\n",
       "      <th>Month</th>\n",
       "      <th>Day</th>\n",
       "      <th>Hour</th>\n",
       "      <th>Minute</th>\n",
       "      <th>Second</th>\n",
       "      <th>PM1</th>\n",
       "      <th>PM2.5</th>\n",
       "      <th>PM10</th>\n",
       "      <th>Temp</th>\n",
       "      <th>Humidity</th>\n",
       "      <th>Light</th>\n",
       "      <th>CO</th>\n",
       "      <th>Water Temp</th>\n",
       "      <th>pH</th>\n",
       "    </tr>\n",
       "  </thead>\n",
       "  <tbody>\n",
       "    <tr>\n",
       "      <th>187</th>\n",
       "      <td>188</td>\n",
       "      <td>2019</td>\n",
       "      <td>11</td>\n",
       "      <td>26</td>\n",
       "      <td>13</td>\n",
       "      <td>5</td>\n",
       "      <td>37</td>\n",
       "      <td>7.0</td>\n",
       "      <td>9</td>\n",
       "      <td>10</td>\n",
       "      <td>28</td>\n",
       "      <td>9</td>\n",
       "      <td>34.0</td>\n",
       "      <td>95.0</td>\n",
       "      <td>23.88</td>\n",
       "      <td>6.56000</td>\n",
       "    </tr>\n",
       "    <tr>\n",
       "      <th>188</th>\n",
       "      <td>189</td>\n",
       "      <td>2019</td>\n",
       "      <td>11</td>\n",
       "      <td>26</td>\n",
       "      <td>13</td>\n",
       "      <td>6</td>\n",
       "      <td>30</td>\n",
       "      <td>5.0</td>\n",
       "      <td>8</td>\n",
       "      <td>8</td>\n",
       "      <td>27</td>\n",
       "      <td>12</td>\n",
       "      <td>34.0</td>\n",
       "      <td>95.0</td>\n",
       "      <td>23.88</td>\n",
       "      <td>6.51000</td>\n",
       "    </tr>\n",
       "    <tr>\n",
       "      <th>189</th>\n",
       "      <td>190</td>\n",
       "      <td>2019</td>\n",
       "      <td>11</td>\n",
       "      <td>26</td>\n",
       "      <td>13</td>\n",
       "      <td>7</td>\n",
       "      <td>18</td>\n",
       "      <td>4.0</td>\n",
       "      <td>8</td>\n",
       "      <td>9</td>\n",
       "      <td>27</td>\n",
       "      <td>11</td>\n",
       "      <td>34.0</td>\n",
       "      <td>95.0</td>\n",
       "      <td>23.88</td>\n",
       "      <td>6.54000</td>\n",
       "    </tr>\n",
       "    <tr>\n",
       "      <th>191</th>\n",
       "      <td>192</td>\n",
       "      <td>2019</td>\n",
       "      <td>11</td>\n",
       "      <td>26</td>\n",
       "      <td>13</td>\n",
       "      <td>8</td>\n",
       "      <td>53</td>\n",
       "      <td>7.0</td>\n",
       "      <td>8</td>\n",
       "      <td>8</td>\n",
       "      <td>27</td>\n",
       "      <td>11</td>\n",
       "      <td>34.0</td>\n",
       "      <td>95.0</td>\n",
       "      <td>23.88</td>\n",
       "      <td>6.53000</td>\n",
       "    </tr>\n",
       "    <tr>\n",
       "      <th>193</th>\n",
       "      <td>194</td>\n",
       "      <td>2019</td>\n",
       "      <td>11</td>\n",
       "      <td>26</td>\n",
       "      <td>13</td>\n",
       "      <td>10</td>\n",
       "      <td>28</td>\n",
       "      <td>7.0</td>\n",
       "      <td>9</td>\n",
       "      <td>11</td>\n",
       "      <td>27</td>\n",
       "      <td>11</td>\n",
       "      <td>34.0</td>\n",
       "      <td>95.0</td>\n",
       "      <td>23.81</td>\n",
       "      <td>6.53000</td>\n",
       "    </tr>\n",
       "    <tr>\n",
       "      <th>...</th>\n",
       "      <td>...</td>\n",
       "      <td>...</td>\n",
       "      <td>...</td>\n",
       "      <td>...</td>\n",
       "      <td>...</td>\n",
       "      <td>...</td>\n",
       "      <td>...</td>\n",
       "      <td>...</td>\n",
       "      <td>...</td>\n",
       "      <td>...</td>\n",
       "      <td>...</td>\n",
       "      <td>...</td>\n",
       "      <td>...</td>\n",
       "      <td>...</td>\n",
       "      <td>...</td>\n",
       "      <td>...</td>\n",
       "    </tr>\n",
       "    <tr>\n",
       "      <th>23530</th>\n",
       "      <td>23531</td>\n",
       "      <td>2019</td>\n",
       "      <td>12</td>\n",
       "      <td>10</td>\n",
       "      <td>8</td>\n",
       "      <td>5</td>\n",
       "      <td>55</td>\n",
       "      <td>23.0</td>\n",
       "      <td>38</td>\n",
       "      <td>47</td>\n",
       "      <td>45</td>\n",
       "      <td>10</td>\n",
       "      <td>35.0</td>\n",
       "      <td>95.0</td>\n",
       "      <td>27.06</td>\n",
       "      <td>6.32019</td>\n",
       "    </tr>\n",
       "    <tr>\n",
       "      <th>23532</th>\n",
       "      <td>23533</td>\n",
       "      <td>2019</td>\n",
       "      <td>12</td>\n",
       "      <td>10</td>\n",
       "      <td>8</td>\n",
       "      <td>9</td>\n",
       "      <td>9</td>\n",
       "      <td>19.0</td>\n",
       "      <td>33</td>\n",
       "      <td>48</td>\n",
       "      <td>47</td>\n",
       "      <td>9</td>\n",
       "      <td>35.0</td>\n",
       "      <td>95.0</td>\n",
       "      <td>27.06</td>\n",
       "      <td>6.35000</td>\n",
       "    </tr>\n",
       "    <tr>\n",
       "      <th>23533</th>\n",
       "      <td>23534</td>\n",
       "      <td>2019</td>\n",
       "      <td>12</td>\n",
       "      <td>10</td>\n",
       "      <td>8</td>\n",
       "      <td>9</td>\n",
       "      <td>57</td>\n",
       "      <td>22.0</td>\n",
       "      <td>30</td>\n",
       "      <td>34</td>\n",
       "      <td>47</td>\n",
       "      <td>8</td>\n",
       "      <td>35.0</td>\n",
       "      <td>95.0</td>\n",
       "      <td>27.06</td>\n",
       "      <td>6.34000</td>\n",
       "    </tr>\n",
       "    <tr>\n",
       "      <th>23534</th>\n",
       "      <td>23535</td>\n",
       "      <td>2019</td>\n",
       "      <td>12</td>\n",
       "      <td>10</td>\n",
       "      <td>8</td>\n",
       "      <td>10</td>\n",
       "      <td>49</td>\n",
       "      <td>21.0</td>\n",
       "      <td>35</td>\n",
       "      <td>47</td>\n",
       "      <td>51</td>\n",
       "      <td>6</td>\n",
       "      <td>34.0</td>\n",
       "      <td>95.0</td>\n",
       "      <td>27.06</td>\n",
       "      <td>6.38000</td>\n",
       "    </tr>\n",
       "    <tr>\n",
       "      <th>23535</th>\n",
       "      <td>23536</td>\n",
       "      <td>2019</td>\n",
       "      <td>12</td>\n",
       "      <td>10</td>\n",
       "      <td>8</td>\n",
       "      <td>11</td>\n",
       "      <td>41</td>\n",
       "      <td>23.0</td>\n",
       "      <td>34</td>\n",
       "      <td>39</td>\n",
       "      <td>47</td>\n",
       "      <td>8</td>\n",
       "      <td>34.0</td>\n",
       "      <td>95.0</td>\n",
       "      <td>27.06</td>\n",
       "      <td>6.34000</td>\n",
       "    </tr>\n",
       "  </tbody>\n",
       "</table>\n",
       "<p>4882 rows × 16 columns</p>\n",
       "</div>"
      ],
      "text/plain": [
       "        S.No  Year  Month  Day  Hour  Minute  Second   PM1  PM2.5  PM10  Temp  \\\n",
       "187      188  2019     11   26    13       5      37   7.0      9    10    28   \n",
       "188      189  2019     11   26    13       6      30   5.0      8     8    27   \n",
       "189      190  2019     11   26    13       7      18   4.0      8     9    27   \n",
       "191      192  2019     11   26    13       8      53   7.0      8     8    27   \n",
       "193      194  2019     11   26    13      10      28   7.0      9    11    27   \n",
       "...      ...   ...    ...  ...   ...     ...     ...   ...    ...   ...   ...   \n",
       "23530  23531  2019     12   10     8       5      55  23.0     38    47    45   \n",
       "23532  23533  2019     12   10     8       9       9  19.0     33    48    47   \n",
       "23533  23534  2019     12   10     8       9      57  22.0     30    34    47   \n",
       "23534  23535  2019     12   10     8      10      49  21.0     35    47    51   \n",
       "23535  23536  2019     12   10     8      11      41  23.0     34    39    47   \n",
       "\n",
       "       Humidity  Light    CO  Water Temp       pH  \n",
       "187           9   34.0  95.0       23.88  6.56000  \n",
       "188          12   34.0  95.0       23.88  6.51000  \n",
       "189          11   34.0  95.0       23.88  6.54000  \n",
       "191          11   34.0  95.0       23.88  6.53000  \n",
       "193          11   34.0  95.0       23.81  6.53000  \n",
       "...         ...    ...   ...         ...      ...  \n",
       "23530        10   35.0  95.0       27.06  6.32019  \n",
       "23532         9   35.0  95.0       27.06  6.35000  \n",
       "23533         8   35.0  95.0       27.06  6.34000  \n",
       "23534         6   34.0  95.0       27.06  6.38000  \n",
       "23535         8   34.0  95.0       27.06  6.34000  \n",
       "\n",
       "[4882 rows x 16 columns]"
      ]
     },
     "execution_count": 59,
     "metadata": {},
     "output_type": "execute_result"
    }
   ],
   "source": [
    "data_new"
   ]
  },
  {
   "cell_type": "code",
   "execution_count": null,
   "id": "495a5ad3-56dd-41ef-b7bc-ff4649e408e7",
   "metadata": {},
   "outputs": [],
   "source": []
  }
 ],
 "metadata": {
  "kernelspec": {
   "display_name": "Python 3 (ipykernel)",
   "language": "python",
   "name": "python3"
  },
  "language_info": {
   "codemirror_mode": {
    "name": "ipython",
    "version": 3
   },
   "file_extension": ".py",
   "mimetype": "text/x-python",
   "name": "python",
   "nbconvert_exporter": "python",
   "pygments_lexer": "ipython3",
   "version": "3.7.11"
  },
  "toc-autonumbering": true,
  "toc-showmarkdowntxt": false
 },
 "nbformat": 4,
 "nbformat_minor": 5
}
